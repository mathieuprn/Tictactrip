{
  "nbformat": 4,
  "nbformat_minor": 0,
  "metadata": {
    "colab": {
      "name": "Tictactrip.ipynb",
      "provenance": [],
      "collapsed_sections": []
    },
    "kernelspec": {
      "name": "python3",
      "display_name": "Python 3"
    }
  },
  "cells": [
    {
      "cell_type": "code",
      "metadata": {
        "id": "-_SPaDabhDLd"
      },
      "source": [
        "import pandas as pd\r\n",
        "import seaborn as sns\r\n",
        "import matplotlib.pyplot as plt\r\n",
        "import numpy as np\r\n",
        "from google.colab import drive"
      ],
      "execution_count": 3,
      "outputs": []
    },
    {
      "cell_type": "code",
      "metadata": {
        "colab": {
          "base_uri": "https://localhost:8080/"
        },
        "id": "0w5bXM91f1Jl",
        "outputId": "7c1d6981-9558-4a41-8395-26a9b6ced732"
      },
      "source": [
        "drive.mount('/content/drive',force_remount=True)"
      ],
      "execution_count": 4,
      "outputs": [
        {
          "output_type": "stream",
          "text": [
            "Mounted at /content/drive\n"
          ],
          "name": "stdout"
        }
      ]
    },
    {
      "cell_type": "markdown",
      "metadata": {
        "id": "kxY-nC1tBI7F"
      },
      "source": [
        "Importation des datasets"
      ]
    },
    {
      "cell_type": "code",
      "metadata": {
        "id": "K8idgD-8hSDQ"
      },
      "source": [
        "cities = pd.read_csv(\"/content/drive/MyDrive/DaSci/Test Stage/Data/data/cities.csv\", sep=\",\")\r\n",
        "providers = pd.read_csv(\"/content/drive/MyDrive/DaSci/Test Stage/Data/data/providers.csv\", sep=\",\")\r\n",
        "stations = pd.read_csv(\"/content/drive/MyDrive/DaSci/Test Stage/Data/data/stations.csv\", sep=\",\")\r\n",
        "ticket_data = pd.read_csv(\"/content/drive/MyDrive/DaSci/Test Stage/Data/data/ticket_data.csv\", sep=\",\")"
      ],
      "execution_count": 5,
      "outputs": []
    },
    {
      "cell_type": "code",
      "metadata": {
        "colab": {
          "base_uri": "https://localhost:8080/",
          "height": 202
        },
        "id": "wlQNcIGpA2Q5",
        "outputId": "db589fdc-1c77-4d6a-d309-2e2dc2cd0088"
      },
      "source": [
        "ticket_data.head()"
      ],
      "execution_count": 6,
      "outputs": [
        {
          "output_type": "execute_result",
          "data": {
            "text/html": [
              "<div>\n",
              "<style scoped>\n",
              "    .dataframe tbody tr th:only-of-type {\n",
              "        vertical-align: middle;\n",
              "    }\n",
              "\n",
              "    .dataframe tbody tr th {\n",
              "        vertical-align: top;\n",
              "    }\n",
              "\n",
              "    .dataframe thead th {\n",
              "        text-align: right;\n",
              "    }\n",
              "</style>\n",
              "<table border=\"1\" class=\"dataframe\">\n",
              "  <thead>\n",
              "    <tr style=\"text-align: right;\">\n",
              "      <th></th>\n",
              "      <th>id</th>\n",
              "      <th>company</th>\n",
              "      <th>o_station</th>\n",
              "      <th>d_station</th>\n",
              "      <th>departure_ts</th>\n",
              "      <th>arrival_ts</th>\n",
              "      <th>price_in_cents</th>\n",
              "      <th>search_ts</th>\n",
              "      <th>middle_stations</th>\n",
              "      <th>other_companies</th>\n",
              "      <th>o_city</th>\n",
              "      <th>d_city</th>\n",
              "    </tr>\n",
              "  </thead>\n",
              "  <tbody>\n",
              "    <tr>\n",
              "      <th>0</th>\n",
              "      <td>6795025</td>\n",
              "      <td>8385</td>\n",
              "      <td>NaN</td>\n",
              "      <td>NaN</td>\n",
              "      <td>2017-10-13 14:00:00+00</td>\n",
              "      <td>2017-10-13 20:10:00+00</td>\n",
              "      <td>4550</td>\n",
              "      <td>2017-10-01 00:13:31.327+00</td>\n",
              "      <td>NaN</td>\n",
              "      <td>NaN</td>\n",
              "      <td>611</td>\n",
              "      <td>542</td>\n",
              "    </tr>\n",
              "    <tr>\n",
              "      <th>1</th>\n",
              "      <td>6795026</td>\n",
              "      <td>9</td>\n",
              "      <td>63.0</td>\n",
              "      <td>1044.0</td>\n",
              "      <td>2017-10-13 13:05:00+00</td>\n",
              "      <td>2017-10-14 06:55:00+00</td>\n",
              "      <td>1450</td>\n",
              "      <td>2017-10-01 00:13:35.773+00</td>\n",
              "      <td>{149,418}</td>\n",
              "      <td>{13}</td>\n",
              "      <td>611</td>\n",
              "      <td>542</td>\n",
              "    </tr>\n",
              "    <tr>\n",
              "      <th>2</th>\n",
              "      <td>6795027</td>\n",
              "      <td>8377</td>\n",
              "      <td>5905.0</td>\n",
              "      <td>6495.0</td>\n",
              "      <td>2017-10-13 13:27:00+00</td>\n",
              "      <td>2017-10-14 21:24:00+00</td>\n",
              "      <td>7400</td>\n",
              "      <td>2017-10-01 00:13:40.212+00</td>\n",
              "      <td>{798,798,6794,6246}</td>\n",
              "      <td>{8377,8376}</td>\n",
              "      <td>611</td>\n",
              "      <td>542</td>\n",
              "    </tr>\n",
              "    <tr>\n",
              "      <th>3</th>\n",
              "      <td>6795028</td>\n",
              "      <td>8377</td>\n",
              "      <td>5905.0</td>\n",
              "      <td>6495.0</td>\n",
              "      <td>2017-10-13 13:27:00+00</td>\n",
              "      <td>2017-10-14 11:02:00+00</td>\n",
              "      <td>13500</td>\n",
              "      <td>2017-10-01 00:13:40.213+00</td>\n",
              "      <td>{798,798,6794,6246}</td>\n",
              "      <td>{8377,8376}</td>\n",
              "      <td>611</td>\n",
              "      <td>542</td>\n",
              "    </tr>\n",
              "    <tr>\n",
              "      <th>4</th>\n",
              "      <td>6795029</td>\n",
              "      <td>8381</td>\n",
              "      <td>5905.0</td>\n",
              "      <td>6495.0</td>\n",
              "      <td>2017-10-13 21:46:00+00</td>\n",
              "      <td>2017-10-14 19:32:00+00</td>\n",
              "      <td>7710</td>\n",
              "      <td>2017-10-01 00:13:40.213+00</td>\n",
              "      <td>{5983,5983}</td>\n",
              "      <td>{8380}</td>\n",
              "      <td>611</td>\n",
              "      <td>542</td>\n",
              "    </tr>\n",
              "  </tbody>\n",
              "</table>\n",
              "</div>"
            ],
            "text/plain": [
              "        id  company  o_station  ...  other_companies o_city d_city\n",
              "0  6795025     8385        NaN  ...              NaN    611    542\n",
              "1  6795026        9       63.0  ...             {13}    611    542\n",
              "2  6795027     8377     5905.0  ...      {8377,8376}    611    542\n",
              "3  6795028     8377     5905.0  ...      {8377,8376}    611    542\n",
              "4  6795029     8381     5905.0  ...           {8380}    611    542\n",
              "\n",
              "[5 rows x 12 columns]"
            ]
          },
          "metadata": {
            "tags": []
          },
          "execution_count": 6
        }
      ]
    },
    {
      "cell_type": "markdown",
      "metadata": {
        "id": "ujD7IlVPLNB-"
      },
      "source": [
        "# I/ Global Analysis"
      ]
    },
    {
      "cell_type": "markdown",
      "metadata": {
        "id": "dBe8bxTzVj--"
      },
      "source": [
        "La première partie de se rapport a pour but de faire une analyse gloable des données :  on va déterminer le prix min, moyen et max, ainsi que la durée min/max/moyenne par trajet\r\n"
      ]
    },
    {
      "cell_type": "markdown",
      "metadata": {
        "id": "QNHa3Z-jLXAU"
      },
      "source": [
        "### a) Price analysis"
      ]
    },
    {
      "cell_type": "markdown",
      "metadata": {
        "id": "03AFKWeGV1Ri"
      },
      "source": [
        "On accède facilement à mean, max et min de price avec la fonction describe()"
      ]
    },
    {
      "cell_type": "code",
      "metadata": {
        "colab": {
          "base_uri": "https://localhost:8080/"
        },
        "id": "kVCXOHkdIL0L",
        "outputId": "7d013e28-786c-479b-b129-ce9449a6c1e2"
      },
      "source": [
        "ticket_data['price_in_cents'].describe()"
      ],
      "execution_count": null,
      "outputs": [
        {
          "output_type": "execute_result",
          "data": {
            "text/plain": [
              "count    74168.000000\n",
              "mean      4382.711061\n",
              "std       3739.325367\n",
              "min        300.000000\n",
              "25%       1900.000000\n",
              "50%       3350.000000\n",
              "75%       5250.000000\n",
              "max      38550.000000\n",
              "Name: price_in_cents, dtype: float64"
            ]
          },
          "metadata": {
            "tags": []
          },
          "execution_count": 29
        }
      ]
    },
    {
      "cell_type": "markdown",
      "metadata": {
        "id": "rF3I3MGLLfzh"
      },
      "source": [
        "On peut voir que le prix moyen d'un ticket chez TicTactrip est de 4382 cents (soit 43,82€), le prix maximum est de 38 550 cents (soit 385,5€), et le prix minimum de 300 cents (soit 3€). \r\n",
        "\r\n",
        "Ces valeurs sont basées sur un échatillon de 74 168 tickets. "
      ]
    },
    {
      "cell_type": "code",
      "metadata": {
        "colab": {
          "base_uri": "https://localhost:8080/",
          "height": 313
        },
        "id": "PHFLex70Irrg",
        "outputId": "560603b4-2b64-44e3-9531-c681b8657dbb"
      },
      "source": [
        "sns.boxplot(x=\"price_in_cents\", data=ticket_data).set_title(\"Distribution of tickets price\")"
      ],
      "execution_count": null,
      "outputs": [
        {
          "output_type": "execute_result",
          "data": {
            "text/plain": [
              "Text(0.5, 1.0, 'Distribution of tickets price')"
            ]
          },
          "metadata": {
            "tags": []
          },
          "execution_count": 31
        },
        {
          "output_type": "display_data",
          "data": {
            "image/png": "[encoded data removed]",
            "text/plain": [
              "<Figure size 432x288 with 1 Axes>"
            ]
          },
          "metadata": {
            "tags": [],
            "needs_background": "light"
          }
        }
      ]
    },
    {
      "cell_type": "markdown",
      "metadata": {
        "id": "fepqjaW9NCAn"
      },
      "source": [
        "En représentant la répartition des prix avec une boxplot, on observe que 75% des prix sont compris entre 3€ et 52,50€. \r\n",
        "\r\n",
        "Les prix supérieurs à la centaine d'euros représentent une minorité des achats sur cette plateforme. "
      ]
    },
    {
      "cell_type": "markdown",
      "metadata": {
        "id": "2u0ju42GN0Kb"
      },
      "source": [
        "### b) Analysis of journey times"
      ]
    },
    {
      "cell_type": "markdown",
      "metadata": {
        "id": "XSJ2SvnLWBpK"
      },
      "source": [
        "On veut maintenant déterminer la durée moyenne d'un trajet ainsi que son min et son max. <br/>\r\n",
        "Pour faciliter les choses, je crée une nouvelle colonne \"duration_hours\" qui correspond à la durée du trajet, c'est à dire le temps pris pour aller de \"departure_ts\" à \"arrival_ts\". Cette durée est représenté en heures. "
      ]
    },
    {
      "cell_type": "markdown",
      "metadata": {
        "id": "64fYlaL6bkqE"
      },
      "source": [
        "#### Création d'une colonne durée"
      ]
    },
    {
      "cell_type": "code",
      "metadata": {
        "id": "uF_wcPvDOS3s"
      },
      "source": [
        "from datetime import datetime\r\n",
        "from datetime import timedelta\r\n",
        "\r\n",
        "durations = []\r\n",
        "for k in range(74168):\r\n",
        "  #On retire le +00 qui nous embête dans les colonnes departure et arrival\r\n",
        "  departure = ticket_data['departure_ts'][k][:len(ticket_data['departure_ts'][k])-3]\r\n",
        "  arrival = ticket_data['arrival_ts'][k][:len(ticket_data['arrival_ts'][k])-3]\r\n",
        "  \r\n",
        "  #On convertie les données en datatime\r\n",
        "  departure_dt = datetime.strptime(departure, '%Y-%m-%d %H:%M:%S')\r\n",
        "  arrival_dt = datetime.strptime(arrival, '%Y-%m-%d %H:%M:%S')\r\n",
        "\r\n",
        "  #On fait la différence des deux pour avoir la durée\r\n",
        "  time_delta = (departure_dt - arrival_dt)\r\n",
        "  total_seconds = time_delta.total_seconds() #durée en secondes\r\n",
        "  hours = round(total_seconds/3600,2)\r\n",
        "  durations.append(abs(hours))\r\n",
        "\r\n",
        "ticket_data['duration_hours'] = durations\r\n"
      ],
      "execution_count": 7,
      "outputs": []
    },
    {
      "cell_type": "code",
      "metadata": {
        "colab": {
          "base_uri": "https://localhost:8080/",
          "height": 289
        },
        "id": "BwLcP8ED3t30",
        "outputId": "a2af33b0-e389-498e-ec96-415d2d522733"
      },
      "source": [
        "ticket_data.head()"
      ],
      "execution_count": 30,
      "outputs": [
        {
          "output_type": "execute_result",
          "data": {
            "text/html": [
              "<div>\n",
              "<style scoped>\n",
              "    .dataframe tbody tr th:only-of-type {\n",
              "        vertical-align: middle;\n",
              "    }\n",
              "\n",
              "    .dataframe tbody tr th {\n",
              "        vertical-align: top;\n",
              "    }\n",
              "\n",
              "    .dataframe thead th {\n",
              "        text-align: right;\n",
              "    }\n",
              "</style>\n",
              "<table border=\"1\" class=\"dataframe\">\n",
              "  <thead>\n",
              "    <tr style=\"text-align: right;\">\n",
              "      <th></th>\n",
              "      <th>id</th>\n",
              "      <th>company</th>\n",
              "      <th>o_station</th>\n",
              "      <th>d_station</th>\n",
              "      <th>departure_ts</th>\n",
              "      <th>arrival_ts</th>\n",
              "      <th>price_in_cents</th>\n",
              "      <th>search_ts</th>\n",
              "      <th>middle_stations</th>\n",
              "      <th>other_companies</th>\n",
              "      <th>o_city</th>\n",
              "      <th>d_city</th>\n",
              "      <th>duration_hours</th>\n",
              "    </tr>\n",
              "  </thead>\n",
              "  <tbody>\n",
              "    <tr>\n",
              "      <th>0</th>\n",
              "      <td>6795025</td>\n",
              "      <td>8385</td>\n",
              "      <td>NaN</td>\n",
              "      <td>NaN</td>\n",
              "      <td>2017-10-13 14:00:00+00</td>\n",
              "      <td>2017-10-13 20:10:00+00</td>\n",
              "      <td>4550</td>\n",
              "      <td>2017-10-01 00:13:31.327+00</td>\n",
              "      <td>NaN</td>\n",
              "      <td>NaN</td>\n",
              "      <td>611</td>\n",
              "      <td>542</td>\n",
              "      <td>6.17</td>\n",
              "    </tr>\n",
              "    <tr>\n",
              "      <th>1</th>\n",
              "      <td>6795026</td>\n",
              "      <td>9</td>\n",
              "      <td>63.0</td>\n",
              "      <td>1044.0</td>\n",
              "      <td>2017-10-13 13:05:00+00</td>\n",
              "      <td>2017-10-14 06:55:00+00</td>\n",
              "      <td>1450</td>\n",
              "      <td>2017-10-01 00:13:35.773+00</td>\n",
              "      <td>{149,418}</td>\n",
              "      <td>{13}</td>\n",
              "      <td>611</td>\n",
              "      <td>542</td>\n",
              "      <td>17.83</td>\n",
              "    </tr>\n",
              "    <tr>\n",
              "      <th>2</th>\n",
              "      <td>6795027</td>\n",
              "      <td>8377</td>\n",
              "      <td>5905.0</td>\n",
              "      <td>6495.0</td>\n",
              "      <td>2017-10-13 13:27:00+00</td>\n",
              "      <td>2017-10-14 21:24:00+00</td>\n",
              "      <td>7400</td>\n",
              "      <td>2017-10-01 00:13:40.212+00</td>\n",
              "      <td>{798,798,6794,6246}</td>\n",
              "      <td>{8377,8376}</td>\n",
              "      <td>611</td>\n",
              "      <td>542</td>\n",
              "      <td>31.95</td>\n",
              "    </tr>\n",
              "    <tr>\n",
              "      <th>3</th>\n",
              "      <td>6795028</td>\n",
              "      <td>8377</td>\n",
              "      <td>5905.0</td>\n",
              "      <td>6495.0</td>\n",
              "      <td>2017-10-13 13:27:00+00</td>\n",
              "      <td>2017-10-14 11:02:00+00</td>\n",
              "      <td>13500</td>\n",
              "      <td>2017-10-01 00:13:40.213+00</td>\n",
              "      <td>{798,798,6794,6246}</td>\n",
              "      <td>{8377,8376}</td>\n",
              "      <td>611</td>\n",
              "      <td>542</td>\n",
              "      <td>21.58</td>\n",
              "    </tr>\n",
              "    <tr>\n",
              "      <th>4</th>\n",
              "      <td>6795029</td>\n",
              "      <td>8381</td>\n",
              "      <td>5905.0</td>\n",
              "      <td>6495.0</td>\n",
              "      <td>2017-10-13 21:46:00+00</td>\n",
              "      <td>2017-10-14 19:32:00+00</td>\n",
              "      <td>7710</td>\n",
              "      <td>2017-10-01 00:13:40.213+00</td>\n",
              "      <td>{5983,5983}</td>\n",
              "      <td>{8380}</td>\n",
              "      <td>611</td>\n",
              "      <td>542</td>\n",
              "      <td>21.77</td>\n",
              "    </tr>\n",
              "  </tbody>\n",
              "</table>\n",
              "</div>"
            ],
            "text/plain": [
              "        id  company  o_station  ...  o_city d_city duration_hours\n",
              "0  6795025     8385        NaN  ...     611    542           6.17\n",
              "1  6795026        9       63.0  ...     611    542          17.83\n",
              "2  6795027     8377     5905.0  ...     611    542          31.95\n",
              "3  6795028     8377     5905.0  ...     611    542          21.58\n",
              "4  6795029     8381     5905.0  ...     611    542          21.77\n",
              "\n",
              "[5 rows x 13 columns]"
            ]
          },
          "metadata": {
            "tags": []
          },
          "execution_count": 30
        }
      ]
    },
    {
      "cell_type": "markdown",
      "metadata": {
        "id": "9CCE9iXVRifd"
      },
      "source": [
        "#### Analyse"
      ]
    },
    {
      "cell_type": "markdown",
      "metadata": {
        "id": "-jqh0kRXUr0A"
      },
      "source": [
        "On peut maintenant facilement déterminer la durée moyenne, le max et le min avec la fonction describe"
      ]
    },
    {
      "cell_type": "code",
      "metadata": {
        "colab": {
          "base_uri": "https://localhost:8080/"
        },
        "id": "JIMkQyIMQuEF",
        "outputId": "6b1fba16-c278-4035-b63a-6f27a1416193"
      },
      "source": [
        "ticket_data['duration_hours'].describe()"
      ],
      "execution_count": null,
      "outputs": [
        {
          "output_type": "execute_result",
          "data": {
            "text/plain": [
              "count    74168.000000\n",
              "mean         7.076948\n",
              "std          9.916370\n",
              "min          0.330000\n",
              "25%          3.000000\n",
              "50%          4.830000\n",
              "75%          8.000000\n",
              "max        492.850000\n",
              "Name: duration_hours, dtype: float64"
            ]
          },
          "metadata": {
            "tags": []
          },
          "execution_count": 239
        }
      ]
    },
    {
      "cell_type": "markdown",
      "metadata": {
        "id": "l-tQmP8cSD9W"
      },
      "source": [
        "On peut voir que la durée moyenne d'un trajet sur cet échantillon de données  est de 7 heures, la durée maximale est de 492 heures (soit 20,5 jours) et la durée minimale de 0.33 heures (soit 19 minutes). \r\n",
        "\r\n",
        "75 % des trajets ont une durée inférieure à 8 heures. La représentation sous forme de boxplot donne le résultat suivant : \r\n"
      ]
    },
    {
      "cell_type": "code",
      "metadata": {
        "colab": {
          "base_uri": "https://localhost:8080/",
          "height": 313
        },
        "id": "AJtPmUajRym9",
        "outputId": "e30dff50-d35c-47f4-abae-7e37d788f285"
      },
      "source": [
        "sns.boxplot(x=\"duration_hours\", data=ticket_data).set_title(\"Distribution of travel time\")"
      ],
      "execution_count": null,
      "outputs": [
        {
          "output_type": "execute_result",
          "data": {
            "text/plain": [
              "Text(0.5, 1.0, 'Distribution of travel time')"
            ]
          },
          "metadata": {
            "tags": []
          },
          "execution_count": 240
        },
        {
          "output_type": "display_data",
          "data": {
            "image/png": "[encoded data removed]",
            "text/plain": [
              "<Figure size 432x288 with 1 Axes>"
            ]
          },
          "metadata": {
            "tags": [],
            "needs_background": "light"
          }
        }
      ]
    },
    {
      "cell_type": "markdown",
      "metadata": {
        "id": "tMgMyNwfTiQs"
      },
      "source": [
        "\r\n",
        "Si la très grande majorité des trajets ont une durée inférieure à 8 heures, on observe des clusters avec des durées beaucoup plus importantes : il y a un cluster autour de 40 heures, de 180 heures, et de 350 heures"
      ]
    },
    {
      "cell_type": "markdown",
      "metadata": {
        "id": "vIoZb-kvWVsV"
      },
      "source": [
        "# II/ Différence de prix selon le type de transport et la distance"
      ]
    },
    {
      "cell_type": "markdown",
      "metadata": {
        "id": "ATl_KV6a4sU8"
      },
      "source": [
        "Dans cette deuxième partie, nous allons déterminer le prix des trajets selon le type de transport et la distance. "
      ]
    },
    {
      "cell_type": "markdown",
      "metadata": {
        "id": "G6m0fs1AWj9M"
      },
      "source": [
        "### a) Différence de prix selon le type de transport"
      ]
    },
    {
      "cell_type": "markdown",
      "metadata": {
        "id": "7_gRUhgn4ZpZ"
      },
      "source": [
        "On souhaite déterminer la différence de prix selon le type de transport. Dans la table \"ticket_data\", nous ne disposons pas de la catégorie de transport. Nous allons devoir créer une nouvelle colonne \"transport_type\" que l'on crée en faisant une sorte de jointure entre les tables \"ticket_data\" et \"providers\". \r\n",
        "\r\n",
        "En effet, la colonne ticket_data['company'], nous permet de faire le lien avec la table providers qui nous la catégorie de chaque transport"
      ]
    },
    {
      "cell_type": "markdown",
      "metadata": {
        "id": "AcdITzjt6QLB"
      },
      "source": [
        "#### Création colonne transport_type"
      ]
    },
    {
      "cell_type": "code",
      "metadata": {
        "id": "Kd2mSQlcXSno"
      },
      "source": [
        "transport = []\r\n",
        "for k in range(74168):\r\n",
        "  entreprise_id = ticket_data['company'][k] #on récupère le compagny_id\r\n",
        "  transport.append(str(providers[providers['id'] == entreprise_id]['transport_type']).split()[1]) #on fait le lien avec la table providers.csv (split nous permet de nous débarasser des termes inutiles)\r\n",
        "\r\n",
        "ticket_data['transport_type'] = transport"
      ],
      "execution_count": 8,
      "outputs": []
    },
    {
      "cell_type": "code",
      "metadata": {
        "colab": {
          "base_uri": "https://localhost:8080/",
          "height": 289
        },
        "id": "ue0waBxg4Rje",
        "outputId": "98987e8b-073d-4587-84ec-b149b21b8a9d"
      },
      "source": [
        "ticket_data.head()"
      ],
      "execution_count": 9,
      "outputs": [
        {
          "output_type": "execute_result",
          "data": {
            "text/html": [
              "<div>\n",
              "<style scoped>\n",
              "    .dataframe tbody tr th:only-of-type {\n",
              "        vertical-align: middle;\n",
              "    }\n",
              "\n",
              "    .dataframe tbody tr th {\n",
              "        vertical-align: top;\n",
              "    }\n",
              "\n",
              "    .dataframe thead th {\n",
              "        text-align: right;\n",
              "    }\n",
              "</style>\n",
              "<table border=\"1\" class=\"dataframe\">\n",
              "  <thead>\n",
              "    <tr style=\"text-align: right;\">\n",
              "      <th></th>\n",
              "      <th>id</th>\n",
              "      <th>company</th>\n",
              "      <th>o_station</th>\n",
              "      <th>d_station</th>\n",
              "      <th>departure_ts</th>\n",
              "      <th>arrival_ts</th>\n",
              "      <th>price_in_cents</th>\n",
              "      <th>search_ts</th>\n",
              "      <th>middle_stations</th>\n",
              "      <th>other_companies</th>\n",
              "      <th>o_city</th>\n",
              "      <th>d_city</th>\n",
              "      <th>transport_type</th>\n",
              "    </tr>\n",
              "  </thead>\n",
              "  <tbody>\n",
              "    <tr>\n",
              "      <th>0</th>\n",
              "      <td>6795025</td>\n",
              "      <td>8385</td>\n",
              "      <td>NaN</td>\n",
              "      <td>NaN</td>\n",
              "      <td>2017-10-13 14:00:00+00</td>\n",
              "      <td>2017-10-13 20:10:00+00</td>\n",
              "      <td>4550</td>\n",
              "      <td>2017-10-01 00:13:31.327+00</td>\n",
              "      <td>NaN</td>\n",
              "      <td>NaN</td>\n",
              "      <td>611</td>\n",
              "      <td>542</td>\n",
              "      <td>carpooling</td>\n",
              "    </tr>\n",
              "    <tr>\n",
              "      <th>1</th>\n",
              "      <td>6795026</td>\n",
              "      <td>9</td>\n",
              "      <td>63.0</td>\n",
              "      <td>1044.0</td>\n",
              "      <td>2017-10-13 13:05:00+00</td>\n",
              "      <td>2017-10-14 06:55:00+00</td>\n",
              "      <td>1450</td>\n",
              "      <td>2017-10-01 00:13:35.773+00</td>\n",
              "      <td>{149,418}</td>\n",
              "      <td>{13}</td>\n",
              "      <td>611</td>\n",
              "      <td>542</td>\n",
              "      <td>bus</td>\n",
              "    </tr>\n",
              "    <tr>\n",
              "      <th>2</th>\n",
              "      <td>6795027</td>\n",
              "      <td>8377</td>\n",
              "      <td>5905.0</td>\n",
              "      <td>6495.0</td>\n",
              "      <td>2017-10-13 13:27:00+00</td>\n",
              "      <td>2017-10-14 21:24:00+00</td>\n",
              "      <td>7400</td>\n",
              "      <td>2017-10-01 00:13:40.212+00</td>\n",
              "      <td>{798,798,6794,6246}</td>\n",
              "      <td>{8377,8376}</td>\n",
              "      <td>611</td>\n",
              "      <td>542</td>\n",
              "      <td>train</td>\n",
              "    </tr>\n",
              "    <tr>\n",
              "      <th>3</th>\n",
              "      <td>6795028</td>\n",
              "      <td>8377</td>\n",
              "      <td>5905.0</td>\n",
              "      <td>6495.0</td>\n",
              "      <td>2017-10-13 13:27:00+00</td>\n",
              "      <td>2017-10-14 11:02:00+00</td>\n",
              "      <td>13500</td>\n",
              "      <td>2017-10-01 00:13:40.213+00</td>\n",
              "      <td>{798,798,6794,6246}</td>\n",
              "      <td>{8377,8376}</td>\n",
              "      <td>611</td>\n",
              "      <td>542</td>\n",
              "      <td>train</td>\n",
              "    </tr>\n",
              "    <tr>\n",
              "      <th>4</th>\n",
              "      <td>6795029</td>\n",
              "      <td>8381</td>\n",
              "      <td>5905.0</td>\n",
              "      <td>6495.0</td>\n",
              "      <td>2017-10-13 21:46:00+00</td>\n",
              "      <td>2017-10-14 19:32:00+00</td>\n",
              "      <td>7710</td>\n",
              "      <td>2017-10-01 00:13:40.213+00</td>\n",
              "      <td>{5983,5983}</td>\n",
              "      <td>{8380}</td>\n",
              "      <td>611</td>\n",
              "      <td>542</td>\n",
              "      <td>train</td>\n",
              "    </tr>\n",
              "  </tbody>\n",
              "</table>\n",
              "</div>"
            ],
            "text/plain": [
              "        id  company  o_station  ...  o_city d_city transport_type\n",
              "0  6795025     8385        NaN  ...     611    542     carpooling\n",
              "1  6795026        9       63.0  ...     611    542            bus\n",
              "2  6795027     8377     5905.0  ...     611    542          train\n",
              "3  6795028     8377     5905.0  ...     611    542          train\n",
              "4  6795029     8381     5905.0  ...     611    542          train\n",
              "\n",
              "[5 rows x 13 columns]"
            ]
          },
          "metadata": {
            "tags": []
          },
          "execution_count": 9
        }
      ]
    },
    {
      "cell_type": "markdown",
      "metadata": {
        "id": "j8FSPHYq9awt"
      },
      "source": [
        "#### Visualisation des prix en fonction du type de transport"
      ]
    },
    {
      "cell_type": "markdown",
      "metadata": {
        "id": "4oplF8BT90ak"
      },
      "source": [
        "Maintenant que nous avons créé la catégorie \"transport_type\", nous pouvons facilement visualiser la répartition des prix en fonction des types de transport. On reoprensente le boxplot suivant : "
      ]
    },
    {
      "cell_type": "code",
      "metadata": {
        "id": "7onMLsWdjE6D",
        "colab": {
          "base_uri": "https://localhost:8080/",
          "height": 313
        },
        "outputId": "65c937b9-327b-42ee-f479-ab7bdbc9c614"
      },
      "source": [
        "sns.boxplot(data=ticket_data, x='transport_type', y='price_in_cents').set_title(\"Répartition des prix en fonction du type de transport\")"
      ],
      "execution_count": 36,
      "outputs": [
        {
          "output_type": "execute_result",
          "data": {
            "text/plain": [
              "Text(0.5, 1.0, 'Répartition des prix en fonction du type de transport')"
            ]
          },
          "metadata": {
            "tags": []
          },
          "execution_count": 36
        },
        {
          "output_type": "display_data",
          "data": {
            "image/png": "[encoded data removed]",
            "text/plain": [
              "<Figure size 432x288 with 1 Axes>"
            ]
          },
          "metadata": {
            "tags": [],
            "needs_background": "light"
          }
        }
      ]
    },
    {
      "cell_type": "markdown",
      "metadata": {
        "id": "DiToBXHH-JlX"
      },
      "source": [
        "On peut observer que le mode de transport le moins cher est le covoiturage (carpooling), puis vient le bus et train est le mode de trasnport le plus cher. \r\n",
        "\r\n",
        "On constate également que plus le prix moyen est important, plus la répartition des prix est inégale : on retrouve ainsi dans les 3 cas un prix minimum similaire (de 3€ pour le covoiturage, 8,5€ pour le bus et 4,90€ pour le train) mais un prix maximum de 385€ pour le train, 229€ pour le bus et 361€ pour le covoiturage. \r\n",
        "\r\n",
        "Ces valeurs sont obtenues avec le code suivant : "
      ]
    },
    {
      "cell_type": "code",
      "metadata": {
        "colab": {
          "base_uri": "https://localhost:8080/"
        },
        "id": "C7F1bQENBTVA",
        "outputId": "6171a99b-755c-4d79-d43c-67b12ee48668"
      },
      "source": [
        "#liste des types de transport\r\n",
        "transport_type = ['carpooling', 'bus', 'train']\r\n",
        "\r\n",
        "#On print les caractéritiques des prix de ces différents moyen de transport\r\n",
        "for transport in transport_type: \r\n",
        "  print('========================================')\r\n",
        "  print('la répartition des prix pour le', transport)\r\n",
        "  print(ticket_data[ticket_data['transport_type']== transport ]['price_in_cents'].describe())"
      ],
      "execution_count": 50,
      "outputs": [
        {
          "output_type": "stream",
          "text": [
            "========================================\n",
            "la répartition des prix pour le carpooling\n",
            "count    41441.000000\n",
            "mean      2742.171907\n",
            "std       1501.934054\n",
            "min        300.000000\n",
            "25%       1550.000000\n",
            "50%       2500.000000\n",
            "75%       3600.000000\n",
            "max      16150.000000\n",
            "Name: price_in_cents, dtype: float64\n",
            "========================================\n",
            "la répartition des prix pour le bus\n",
            "count    13798.000000\n",
            "mean      3652.448036\n",
            "std       1913.197779\n",
            "min        850.000000\n",
            "25%       2390.000000\n",
            "50%       3300.000000\n",
            "75%       4400.000000\n",
            "max      22900.000000\n",
            "Name: price_in_cents, dtype: float64\n",
            "========================================\n",
            "la répartition des prix pour le train\n",
            "count    18929.000000\n",
            "mean      8506.634793\n",
            "std       4888.064503\n",
            "min        490.000000\n",
            "25%       4800.000000\n",
            "50%       7540.000000\n",
            "75%      11200.000000\n",
            "max      38550.000000\n",
            "Name: price_in_cents, dtype: float64\n"
          ],
          "name": "stdout"
        }
      ]
    },
    {
      "cell_type": "markdown",
      "metadata": {
        "id": "XK8aPxouEvMD"
      },
      "source": [
        "Les chiffres intéressants sont : \r\n",
        "- Covoiturage : \r\n",
        "  - moyenne : 25€\r\n",
        "  - min : 3€\r\n",
        "  - max : 161€\r\n",
        "\r\n",
        "- Bus : \r\n",
        "  - moyenne : 33€\r\n",
        "  - min : 8,5€\r\n",
        "  - max : 229€\r\n",
        "\r\n",
        "- Train : \r\n",
        "  - moyenne : 75€\r\n",
        "  - min : 4,9€\r\n",
        "  - max : 385€"
      ]
    },
    {
      "cell_type": "markdown",
      "metadata": {
        "id": "1xBshy8yHjtr"
      },
      "source": [
        "Avant de passer à la suite, je trouvais intéressant de regarder la proportion de ces 3 différents mode de transport sur TicTacTrip et le pourcentage du Chiffre d'affaire (CA) pour chacun des types de transport. On obtient le graphe suivant : "
      ]
    },
    {
      "cell_type": "code",
      "metadata": {
        "colab": {
          "base_uri": "https://localhost:8080/",
          "height": 511
        },
        "id": "m2Xk75gNGKuz",
        "outputId": "60e9abbf-b74e-4afe-cbff-e3a87c056239"
      },
      "source": [
        "#Répartition des différents moyens de transport sur TicTacTrip\r\n",
        "transport_type = ['carpooling', 'train', 'bus']\r\n",
        "proportion = ticket_data['transport_type'].value_counts() #détermine le nombre de chaque catégorie\r\n",
        "\r\n",
        "\r\n",
        "fig1, ax1 = plt.subplots()\r\n",
        "ax1.pie(proportion, labels=transport_type, autopct='%1.1f%%',\r\n",
        "        shadow=True, startangle=90)\r\n",
        "\r\n",
        "plt.title('Répartition des différents moyens de transport sur TicTacTrip')\r\n",
        "plt.show()\r\n",
        "\r\n",
        "\r\n",
        "#Répartition des différents moyens de transport sur TicTacTrip\r\n",
        "transport_type_2 = ['bus', 'carpooling', 'train']\r\n",
        "CA_type = ticket_data.groupby(\"transport_type\")[\"price_in_cents\"].sum() #détermine le CA selon chaque catégorie\r\n",
        "\r\n",
        "\r\n",
        "fig1, ax1 = plt.subplots()\r\n",
        "ax1.pie(CA_type, labels=transport_type_2, autopct='%1.1f%%',\r\n",
        "        shadow=True, startangle=90)\r\n",
        "\r\n",
        "plt.title('Répartition du CA de TicTacTrip selon les moyens de trasnport')\r\n",
        "plt.show()"
      ],
      "execution_count": 81,
      "outputs": [
        {
          "output_type": "display_data",
          "data": {
            "image/png": "[encoded data removed]",
            "text/plain": [
              "<Figure size 432x288 with 1 Axes>"
            ]
          },
          "metadata": {
            "tags": []
          }
        },
        {
          "output_type": "display_data",
          "data": {
            "image/png": "[encoded data removed]",
            "text/plain": [
              "<Figure size 432x288 with 1 Axes>"
            ]
          },
          "metadata": {
            "tags": []
          }
        }
      ]
    },
    {
      "cell_type": "markdown",
      "metadata": {
        "id": "JwlSPyZCIQXt"
      },
      "source": [
        "Il est interessant de constater que le covoiturage est le moyen de transport le plus utilisé, vient ensuite le train puis le bus. Bien que le train ne représente que 25% des trajets, il représente près de 50% du chiffre d'affaire."
      ]
    },
    {
      "cell_type": "markdown",
      "metadata": {
        "id": "LOsnASO49Jry"
      },
      "source": [
        "### b) Différence de prix selon la distance parcourue"
      ]
    },
    {
      "cell_type": "markdown",
      "metadata": {
        "id": "66JSfmQB9SC2"
      },
      "source": [
        "On veut ensuite déterminer le prix en fonction de la distance parcourue. Nous ne disposons pas de la distance parcourue mais seulement de la ville d'origine (avec \"o_city\") et la ville d'arrivée (\"d_city). \r\n",
        "\r\n",
        "Connaissant les coordonnées géographique des villes en question avec la table cities.csv, on peut déterminer la distance du trajet. \r\n",
        "\r\n",
        "Nous allons, en suivant cette technique, créer une nouvelle colonne \"distance\" qui correspond à la distance à vol d'oiseau entre les deux villes du trajet. "
      ]
    },
    {
      "cell_type": "markdown",
      "metadata": {
        "id": "m4Io8cL9_wq8"
      },
      "source": [
        "#### Création colonne distance"
      ]
    },
    {
      "cell_type": "markdown",
      "metadata": {
        "id": "JYi0BLheNwGF"
      },
      "source": [
        "Nous voulons ici déterminer la distance entre deux villes en utilisant les coordonnées latitude-longitude.\r\n",
        "\r\n",
        "Pour cela, nous allons utiliser la formule de Haversine. Cette formule tient compte de la courbure de la Terre. Elle est alors beaucoup plus précise que des formule de distance traditionelle. \r\n",
        "\r\n",
        "La fonction \"distance\"  suivante permet de mesurer la distance entre deux villes (\"origin_city\" et \"destination_city\"), en utilisant la formule Haversine. \r\n"
      ]
    },
    {
      "cell_type": "code",
      "metadata": {
        "id": "EtXDvBxJmtxs"
      },
      "source": [
        "import math\r\n",
        "\r\n",
        "def distance(origin_city, destination_city): \r\n",
        "  #radius of the Earth\r\n",
        "  R = 6373.0\r\n",
        "\r\n",
        "  #coordinates\r\n",
        "  lat1 = math.radians(cities[cities['id'] == origin_city]['latitude'])\r\n",
        "  lon1 = math.radians(cities[cities['id'] == origin_city]['longitude'])\r\n",
        "  lat2 = math.radians(cities[cities['id'] == destination_city]['latitude'])\r\n",
        "  lon2 = math.radians(cities[cities['id'] == destination_city]['longitude'])\r\n",
        "\r\n",
        "  #change in coordinates\r\n",
        "  dlon = lon2 - lon1\r\n",
        "  dlat = lat2 - lat1\r\n",
        "\r\n",
        "  #Haversine formula\r\n",
        "  a = math.sin(dlat / 2)**2 + math.cos(lat1) * math.cos(lat2) * math.sin(dlon / 2)**2\r\n",
        "\r\n",
        "  c = 2 * math.atan2(math.sqrt(a), math.sqrt(1 - a))\r\n",
        "  distance = R * c\r\n",
        "  return distance"
      ],
      "execution_count": 9,
      "outputs": []
    },
    {
      "cell_type": "markdown",
      "metadata": {
        "id": "xKoJk8rRPjIH"
      },
      "source": [
        "Une fois que nous avons écrit cette fonction \"distance\", on peut facilement faire une nouvelle colonne \"distance_km\". \r\n",
        "\r\n",
        "La jointure entre les tables cities.csv et ticket_data.csv se fait avec ticket_data['o_city'] = cities[id]"
      ]
    },
    {
      "cell_type": "code",
      "metadata": {
        "id": "70pWh4byA1RU"
      },
      "source": [
        "distance_trajets = []\r\n",
        "\r\n",
        "for k in range(74168): \r\n",
        "  origin_city = ticket_data['o_city'][k]\r\n",
        "  destination_city = ticket_data['d_city'][k]\r\n",
        "  d = distance(origin_city, destination_city)\r\n",
        "  distance_trajets.append(d)\r\n",
        "\r\n",
        "ticket_data['distance_km'] = distance_trajets"
      ],
      "execution_count": 10,
      "outputs": []
    },
    {
      "cell_type": "code",
      "metadata": {
        "colab": {
          "base_uri": "https://localhost:8080/",
          "height": 309
        },
        "id": "nbkfqXw4NOY2",
        "outputId": "0d76a96d-7d54-4a67-c3b6-c1aeb72bc5c0"
      },
      "source": [
        "ticket_data.head()"
      ],
      "execution_count": 30,
      "outputs": [
        {
          "output_type": "execute_result",
          "data": {
            "text/html": [
              "<div>\n",
              "<style scoped>\n",
              "    .dataframe tbody tr th:only-of-type {\n",
              "        vertical-align: middle;\n",
              "    }\n",
              "\n",
              "    .dataframe tbody tr th {\n",
              "        vertical-align: top;\n",
              "    }\n",
              "\n",
              "    .dataframe thead th {\n",
              "        text-align: right;\n",
              "    }\n",
              "</style>\n",
              "<table border=\"1\" class=\"dataframe\">\n",
              "  <thead>\n",
              "    <tr style=\"text-align: right;\">\n",
              "      <th></th>\n",
              "      <th>id</th>\n",
              "      <th>company</th>\n",
              "      <th>o_station</th>\n",
              "      <th>d_station</th>\n",
              "      <th>departure_ts</th>\n",
              "      <th>arrival_ts</th>\n",
              "      <th>price_in_cents</th>\n",
              "      <th>search_ts</th>\n",
              "      <th>middle_stations</th>\n",
              "      <th>other_companies</th>\n",
              "      <th>o_city</th>\n",
              "      <th>d_city</th>\n",
              "      <th>transport_type</th>\n",
              "      <th>distance_km</th>\n",
              "    </tr>\n",
              "  </thead>\n",
              "  <tbody>\n",
              "    <tr>\n",
              "      <th>0</th>\n",
              "      <td>6795025</td>\n",
              "      <td>8385</td>\n",
              "      <td>NaN</td>\n",
              "      <td>NaN</td>\n",
              "      <td>2017-10-13 14:00:00+00</td>\n",
              "      <td>2017-10-13 20:10:00+00</td>\n",
              "      <td>4550</td>\n",
              "      <td>2017-10-01 00:13:31.327+00</td>\n",
              "      <td>NaN</td>\n",
              "      <td>NaN</td>\n",
              "      <td>611</td>\n",
              "      <td>542</td>\n",
              "      <td>carpooling</td>\n",
              "      <td>503.355132</td>\n",
              "    </tr>\n",
              "    <tr>\n",
              "      <th>1</th>\n",
              "      <td>6795026</td>\n",
              "      <td>9</td>\n",
              "      <td>63.0</td>\n",
              "      <td>1044.0</td>\n",
              "      <td>2017-10-13 13:05:00+00</td>\n",
              "      <td>2017-10-14 06:55:00+00</td>\n",
              "      <td>1450</td>\n",
              "      <td>2017-10-01 00:13:35.773+00</td>\n",
              "      <td>{149,418}</td>\n",
              "      <td>{13}</td>\n",
              "      <td>611</td>\n",
              "      <td>542</td>\n",
              "      <td>bus</td>\n",
              "      <td>503.355132</td>\n",
              "    </tr>\n",
              "    <tr>\n",
              "      <th>2</th>\n",
              "      <td>6795027</td>\n",
              "      <td>8377</td>\n",
              "      <td>5905.0</td>\n",
              "      <td>6495.0</td>\n",
              "      <td>2017-10-13 13:27:00+00</td>\n",
              "      <td>2017-10-14 21:24:00+00</td>\n",
              "      <td>7400</td>\n",
              "      <td>2017-10-01 00:13:40.212+00</td>\n",
              "      <td>{798,798,6794,6246}</td>\n",
              "      <td>{8377,8376}</td>\n",
              "      <td>611</td>\n",
              "      <td>542</td>\n",
              "      <td>train</td>\n",
              "      <td>503.355132</td>\n",
              "    </tr>\n",
              "    <tr>\n",
              "      <th>3</th>\n",
              "      <td>6795028</td>\n",
              "      <td>8377</td>\n",
              "      <td>5905.0</td>\n",
              "      <td>6495.0</td>\n",
              "      <td>2017-10-13 13:27:00+00</td>\n",
              "      <td>2017-10-14 11:02:00+00</td>\n",
              "      <td>13500</td>\n",
              "      <td>2017-10-01 00:13:40.213+00</td>\n",
              "      <td>{798,798,6794,6246}</td>\n",
              "      <td>{8377,8376}</td>\n",
              "      <td>611</td>\n",
              "      <td>542</td>\n",
              "      <td>train</td>\n",
              "      <td>503.355132</td>\n",
              "    </tr>\n",
              "    <tr>\n",
              "      <th>4</th>\n",
              "      <td>6795029</td>\n",
              "      <td>8381</td>\n",
              "      <td>5905.0</td>\n",
              "      <td>6495.0</td>\n",
              "      <td>2017-10-13 21:46:00+00</td>\n",
              "      <td>2017-10-14 19:32:00+00</td>\n",
              "      <td>7710</td>\n",
              "      <td>2017-10-01 00:13:40.213+00</td>\n",
              "      <td>{5983,5983}</td>\n",
              "      <td>{8380}</td>\n",
              "      <td>611</td>\n",
              "      <td>542</td>\n",
              "      <td>train</td>\n",
              "      <td>503.355132</td>\n",
              "    </tr>\n",
              "  </tbody>\n",
              "</table>\n",
              "</div>"
            ],
            "text/plain": [
              "        id  company  o_station  ...  d_city transport_type distance_km\n",
              "0  6795025     8385        NaN  ...     542     carpooling  503.355132\n",
              "1  6795026        9       63.0  ...     542            bus  503.355132\n",
              "2  6795027     8377     5905.0  ...     542          train  503.355132\n",
              "3  6795028     8377     5905.0  ...     542          train  503.355132\n",
              "4  6795029     8381     5905.0  ...     542          train  503.355132\n",
              "\n",
              "[5 rows x 14 columns]"
            ]
          },
          "metadata": {
            "tags": []
          },
          "execution_count": 30
        }
      ]
    },
    {
      "cell_type": "markdown",
      "metadata": {
        "id": "scXDZJiKUYnH"
      },
      "source": [
        "Maintenant que nous avons créé la colonne distance on peut s'amuser à regarder la répartition de la distance en km de ces différents trajets. On obtient le boxplot suivant :"
      ]
    },
    {
      "cell_type": "code",
      "metadata": {
        "colab": {
          "base_uri": "https://localhost:8080/",
          "height": 452
        },
        "id": "EnTR4YraUWVc",
        "outputId": "a8911cf3-9663-4f48-e681-694030474b8e"
      },
      "source": [
        "sns.boxplot(x=\"distance_km\", data=ticket_data).set_title(\"Distribution of the distance in these different journeys\")\r\n",
        "ticket_data['distance_km'].describe()"
      ],
      "execution_count": 79,
      "outputs": [
        {
          "output_type": "execute_result",
          "data": {
            "text/plain": [
              "count    74168.000000\n",
              "mean       363.152147\n",
              "std        194.991807\n",
              "min         18.919179\n",
              "25%        205.907209\n",
              "50%        338.426341\n",
              "75%        480.564632\n",
              "max       1870.759110\n",
              "Name: distance_km, dtype: float64"
            ]
          },
          "metadata": {
            "tags": []
          },
          "execution_count": 79
        },
        {
          "output_type": "display_data",
          "data": {
            "image/png": "[encoded data removed]",
            "text/plain": [
              "<Figure size 432x288 with 1 Axes>"
            ]
          },
          "metadata": {
            "tags": [],
            "needs_background": "light"
          }
        }
      ]
    },
    {
      "cell_type": "markdown",
      "metadata": {
        "id": "m3Wd7PkUV0Qc"
      },
      "source": [
        "Il est interessant de constater que la distance moyenne parcourue est de 363km, la distance minimale est de 18km et la distance maximale de 1870km."
      ]
    },
    {
      "cell_type": "markdown",
      "metadata": {
        "id": "QgVEddXeQ6UU"
      },
      "source": [
        "#### Création d'une colonne catégorie_distance"
      ]
    },
    {
      "cell_type": "markdown",
      "metadata": {
        "id": "_19FWxb_RA4J"
      },
      "source": [
        "Dans cette exercice, on veut déterminer le prix en fonction de 4 catégories de distance du trajet : 0-200km, 201-800km, 800-2000km et 2000+km. \r\n",
        "\r\n",
        "Nous devons alors créer une nouvelle colonne \"categorie_distance\" qui regroupe les distances dans une des quatre catégorie donnée ci-dessus. "
      ]
    },
    {
      "cell_type": "code",
      "metadata": {
        "id": "30TQe_pXR06c"
      },
      "source": [
        "categorie_distance = []\r\n",
        "\r\n",
        "for k in range(74168): \r\n",
        "  if ticket_data['distance_km'][k]<=200: \r\n",
        "    categorie_distance.append('0-200km')\r\n",
        "  elif 200 < ticket_data['distance_km'][k]<=800: \r\n",
        "    categorie_distance.append('201-800km')\r\n",
        "  elif 800 < ticket_data['distance_km'][k]<=2000: \r\n",
        "    categorie_distance.append('800-2000km')\r\n",
        "  else: \r\n",
        "    categorie_distance.append('2000+km')\r\n",
        "\r\n",
        "ticket_data['categorie_distance'] = categorie_distance "
      ],
      "execution_count": 40,
      "outputs": []
    },
    {
      "cell_type": "code",
      "metadata": {
        "colab": {
          "base_uri": "https://localhost:8080/",
          "height": 309
        },
        "id": "_F35swhbWgtt",
        "outputId": "1429e3e3-dff9-4e58-c733-9bb3052c6fc0"
      },
      "source": [
        "ticket_data.head()"
      ],
      "execution_count": 41,
      "outputs": [
        {
          "output_type": "execute_result",
          "data": {
            "text/html": [
              "<div>\n",
              "<style scoped>\n",
              "    .dataframe tbody tr th:only-of-type {\n",
              "        vertical-align: middle;\n",
              "    }\n",
              "\n",
              "    .dataframe tbody tr th {\n",
              "        vertical-align: top;\n",
              "    }\n",
              "\n",
              "    .dataframe thead th {\n",
              "        text-align: right;\n",
              "    }\n",
              "</style>\n",
              "<table border=\"1\" class=\"dataframe\">\n",
              "  <thead>\n",
              "    <tr style=\"text-align: right;\">\n",
              "      <th></th>\n",
              "      <th>id</th>\n",
              "      <th>company</th>\n",
              "      <th>o_station</th>\n",
              "      <th>d_station</th>\n",
              "      <th>departure_ts</th>\n",
              "      <th>arrival_ts</th>\n",
              "      <th>price_in_cents</th>\n",
              "      <th>search_ts</th>\n",
              "      <th>middle_stations</th>\n",
              "      <th>other_companies</th>\n",
              "      <th>o_city</th>\n",
              "      <th>d_city</th>\n",
              "      <th>transport_type</th>\n",
              "      <th>distance_km</th>\n",
              "      <th>categorie_distance</th>\n",
              "    </tr>\n",
              "  </thead>\n",
              "  <tbody>\n",
              "    <tr>\n",
              "      <th>0</th>\n",
              "      <td>6795025</td>\n",
              "      <td>8385</td>\n",
              "      <td>NaN</td>\n",
              "      <td>NaN</td>\n",
              "      <td>2017-10-13 14:00:00+00</td>\n",
              "      <td>2017-10-13 20:10:00+00</td>\n",
              "      <td>4550</td>\n",
              "      <td>2017-10-01 00:13:31.327+00</td>\n",
              "      <td>NaN</td>\n",
              "      <td>NaN</td>\n",
              "      <td>611</td>\n",
              "      <td>542</td>\n",
              "      <td>carpooling</td>\n",
              "      <td>503.355132</td>\n",
              "      <td>201-800km</td>\n",
              "    </tr>\n",
              "    <tr>\n",
              "      <th>1</th>\n",
              "      <td>6795026</td>\n",
              "      <td>9</td>\n",
              "      <td>63.0</td>\n",
              "      <td>1044.0</td>\n",
              "      <td>2017-10-13 13:05:00+00</td>\n",
              "      <td>2017-10-14 06:55:00+00</td>\n",
              "      <td>1450</td>\n",
              "      <td>2017-10-01 00:13:35.773+00</td>\n",
              "      <td>{149,418}</td>\n",
              "      <td>{13}</td>\n",
              "      <td>611</td>\n",
              "      <td>542</td>\n",
              "      <td>bus</td>\n",
              "      <td>503.355132</td>\n",
              "      <td>201-800km</td>\n",
              "    </tr>\n",
              "    <tr>\n",
              "      <th>2</th>\n",
              "      <td>6795027</td>\n",
              "      <td>8377</td>\n",
              "      <td>5905.0</td>\n",
              "      <td>6495.0</td>\n",
              "      <td>2017-10-13 13:27:00+00</td>\n",
              "      <td>2017-10-14 21:24:00+00</td>\n",
              "      <td>7400</td>\n",
              "      <td>2017-10-01 00:13:40.212+00</td>\n",
              "      <td>{798,798,6794,6246}</td>\n",
              "      <td>{8377,8376}</td>\n",
              "      <td>611</td>\n",
              "      <td>542</td>\n",
              "      <td>train</td>\n",
              "      <td>503.355132</td>\n",
              "      <td>201-800km</td>\n",
              "    </tr>\n",
              "    <tr>\n",
              "      <th>3</th>\n",
              "      <td>6795028</td>\n",
              "      <td>8377</td>\n",
              "      <td>5905.0</td>\n",
              "      <td>6495.0</td>\n",
              "      <td>2017-10-13 13:27:00+00</td>\n",
              "      <td>2017-10-14 11:02:00+00</td>\n",
              "      <td>13500</td>\n",
              "      <td>2017-10-01 00:13:40.213+00</td>\n",
              "      <td>{798,798,6794,6246}</td>\n",
              "      <td>{8377,8376}</td>\n",
              "      <td>611</td>\n",
              "      <td>542</td>\n",
              "      <td>train</td>\n",
              "      <td>503.355132</td>\n",
              "      <td>201-800km</td>\n",
              "    </tr>\n",
              "    <tr>\n",
              "      <th>4</th>\n",
              "      <td>6795029</td>\n",
              "      <td>8381</td>\n",
              "      <td>5905.0</td>\n",
              "      <td>6495.0</td>\n",
              "      <td>2017-10-13 21:46:00+00</td>\n",
              "      <td>2017-10-14 19:32:00+00</td>\n",
              "      <td>7710</td>\n",
              "      <td>2017-10-01 00:13:40.213+00</td>\n",
              "      <td>{5983,5983}</td>\n",
              "      <td>{8380}</td>\n",
              "      <td>611</td>\n",
              "      <td>542</td>\n",
              "      <td>train</td>\n",
              "      <td>503.355132</td>\n",
              "      <td>201-800km</td>\n",
              "    </tr>\n",
              "  </tbody>\n",
              "</table>\n",
              "</div>"
            ],
            "text/plain": [
              "        id  company  o_station  ...  transport_type distance_km categorie_distance\n",
              "0  6795025     8385        NaN  ...      carpooling  503.355132          201-800km\n",
              "1  6795026        9       63.0  ...             bus  503.355132          201-800km\n",
              "2  6795027     8377     5905.0  ...           train  503.355132          201-800km\n",
              "3  6795028     8377     5905.0  ...           train  503.355132          201-800km\n",
              "4  6795029     8381     5905.0  ...           train  503.355132          201-800km\n",
              "\n",
              "[5 rows x 15 columns]"
            ]
          },
          "metadata": {
            "tags": []
          },
          "execution_count": 41
        }
      ]
    },
    {
      "cell_type": "markdown",
      "metadata": {
        "id": "sG3EtJBLW5Tb"
      },
      "source": [
        "###  Répartition des prix en fonction de la catégorie_distance "
      ]
    },
    {
      "cell_type": "markdown",
      "metadata": {
        "id": "Ms5_olIoXTz9"
      },
      "source": [
        "Ayant créé la colonne \"categorie_distance\", on peut représenter facilement la la différence de prix moyen selon la distance du trajet ((0-200km, 201-800km, 800-2000km, 2000+km). On obtient le résultat suivant : \r\n",
        "\r\n"
      ]
    },
    {
      "cell_type": "code",
      "metadata": {
        "colab": {
          "base_uri": "https://localhost:8080/",
          "height": 313
        },
        "id": "7JBpHEBtW94C",
        "outputId": "dfccf157-0c8a-4448-f095-9607fa803659"
      },
      "source": [
        "sns.boxplot(data=ticket_data, x='categorie_distance', y='price_in_cents').set_title(\"Répartition des prix en fonction de la distance\")"
      ],
      "execution_count": 43,
      "outputs": [
        {
          "output_type": "execute_result",
          "data": {
            "text/plain": [
              "Text(0.5, 1.0, 'Répartition des prix en fonction de la distance')"
            ]
          },
          "metadata": {
            "tags": []
          },
          "execution_count": 43
        },
        {
          "output_type": "display_data",
          "data": {
            "image/png": "[encoded data removed]",
            "text/plain": [
              "<Figure size 432x288 with 1 Axes>"
            ]
          },
          "metadata": {
            "tags": [],
            "needs_background": "light"
          }
        }
      ]
    },
    {
      "cell_type": "code",
      "metadata": {
        "colab": {
          "base_uri": "https://localhost:8080/"
        },
        "id": "NuTtmJewZE9q",
        "outputId": "a941472c-9ec6-4deb-b2dd-87ee9afa4110"
      },
      "source": [
        "#liste des types de catégorie de distance\r\n",
        "category_distance = ['0-200km', '201-800km', '800-2000km']\r\n",
        "\r\n",
        "#On print les caractéritiques des prix de ces différents moyen de transport\r\n",
        "for distance in category_distance: \r\n",
        "  print('========================================')\r\n",
        "  print('la répartition des prix pour le categorie', distance, ' est:\"')\r\n",
        "  print(ticket_data[ticket_data['categorie_distance']== distance]['price_in_cents'].describe())"
      ],
      "execution_count": 44,
      "outputs": [
        {
          "output_type": "stream",
          "text": [
            "========================================\n",
            "la répartition des prix pour le categorie 0-200km  est:\"\n",
            "count    13724.000000\n",
            "mean      1678.972311\n",
            "std       1340.887966\n",
            "min        300.000000\n",
            "25%        950.000000\n",
            "50%       1300.000000\n",
            "75%       1800.000000\n",
            "max      25100.000000\n",
            "Name: price_in_cents, dtype: float64\n",
            "========================================\n",
            "la répartition des prix pour le categorie 201-800km  est:\"\n",
            "count    58877.000000\n",
            "mean      4893.836592\n",
            "std       3745.577272\n",
            "min        850.000000\n",
            "25%       2500.000000\n",
            "50%       3600.000000\n",
            "75%       5800.000000\n",
            "max      38550.000000\n",
            "Name: price_in_cents, dtype: float64\n",
            "========================================\n",
            "la répartition des prix pour le categorie 800-2000km  est:\"\n",
            "count     1567.000000\n",
            "mean      8857.869177\n",
            "std       5008.885867\n",
            "min       1940.000000\n",
            "25%       5500.000000\n",
            "50%       7780.000000\n",
            "75%      10050.000000\n",
            "max      37550.000000\n",
            "Name: price_in_cents, dtype: float64\n"
          ],
          "name": "stdout"
        }
      ]
    },
    {
      "cell_type": "markdown",
      "metadata": {
        "id": "ypaSoTW8Yh74"
      },
      "source": [
        "Sans surprise, on constate que plus la distance est élevée, plus le prix est élevée. \r\n",
        "\r\n",
        "On constate que le prix moyen pour la catégorie \"0-200km\" est de 16,78€, pour la catégorie \"201-800km\" de 48,93€ et pour la catégorie \"800-2000km\" est de 88,57€. "
      ]
    },
    {
      "cell_type": "markdown",
      "metadata": {
        "id": "d8EFPkOta1nf"
      },
      "source": [
        "#### Répartition des categorie_distance"
      ]
    },
    {
      "cell_type": "markdown",
      "metadata": {
        "id": "JRBjfLj1a7YG"
      },
      "source": [
        "Avant de terminer je trouvais intéressant de regarder la proportion de ces 3 catégories. On obtient le boxplot suivant : "
      ]
    },
    {
      "cell_type": "code",
      "metadata": {
        "colab": {
          "base_uri": "https://localhost:8080/",
          "height": 264
        },
        "id": "ADfNsRgzbGE6",
        "outputId": "5f70f25c-a82f-40dd-bb04-45d499296472"
      },
      "source": [
        "#Répartition des différents moyens de transport sur TicTacTrip\r\n",
        "category_distance2 = ['201-800km','0-200km', '800-2000km']\r\n",
        "proportion = ticket_data['categorie_distance'].value_counts() #détermine le nombre de chaque catégorie\r\n",
        "\r\n",
        "\r\n",
        "fig1, ax1 = plt.subplots()\r\n",
        "ax1.pie(proportion, labels=category_distance2, autopct='%1.1f%%',\r\n",
        "        shadow=True, startangle=90)\r\n",
        "\r\n",
        "plt.title('Répartition des différents catégorie_distance des trajets sur TicTacTrip')\r\n",
        "plt.show()"
      ],
      "execution_count": 47,
      "outputs": [
        {
          "output_type": "display_data",
          "data": {
            "image/png": "[encoded data removed]",
            "text/plain": [
              "<Figure size 432x288 with 1 Axes>"
            ]
          },
          "metadata": {
            "tags": []
          }
        }
      ]
    },
    {
      "cell_type": "markdown",
      "metadata": {
        "id": "Q7K70ZTlbxP-"
      },
      "source": [
        "Il est interessant de constater que les trajets de 200-800km représente la très grosse majorité des trajets sur la plateforme avec près de 80% des trajets totaux\r\n",
        "\r\n"
      ]
    },
    {
      "cell_type": "markdown",
      "metadata": {
        "id": "JzP8DSp8ormO"
      },
      "source": [
        "# III/ Analyses supplémentaires"
      ]
    },
    {
      "cell_type": "markdown",
      "metadata": {
        "id": "yIqQ1rRVRdiI"
      },
      "source": [
        "De nombreuses données n'ont pas été exploitées dans la table providers.csv. Dans cette partie nous allons essayer de les exploiter pour extraire des informations supplémentaires. \r\n",
        "\r\n",
        "On va ici créer une nouvelle table, appelée data_ML qui va être utilisé pour les parties III et IV"
      ]
    },
    {
      "cell_type": "code",
      "metadata": {
        "colab": {
          "base_uri": "https://localhost:8080/",
          "height": 202
        },
        "id": "tpc5_CJlsyft",
        "outputId": "3f499c45-a719-4d3e-93c8-81377c50724a"
      },
      "source": [
        "#On crée une nouvelle table que nous allons utilisé pour le Machine Learning\r\n",
        "data_ML = ticket_data[['company', 'duration_hours', 'distance_km','transport_type','price_in_cents']]\r\n",
        "data_ML.head()"
      ],
      "execution_count": 13,
      "outputs": [
        {
          "output_type": "execute_result",
          "data": {
            "text/html": [
              "<div>\n",
              "<style scoped>\n",
              "    .dataframe tbody tr th:only-of-type {\n",
              "        vertical-align: middle;\n",
              "    }\n",
              "\n",
              "    .dataframe tbody tr th {\n",
              "        vertical-align: top;\n",
              "    }\n",
              "\n",
              "    .dataframe thead th {\n",
              "        text-align: right;\n",
              "    }\n",
              "</style>\n",
              "<table border=\"1\" class=\"dataframe\">\n",
              "  <thead>\n",
              "    <tr style=\"text-align: right;\">\n",
              "      <th></th>\n",
              "      <th>company</th>\n",
              "      <th>duration_hours</th>\n",
              "      <th>distance_km</th>\n",
              "      <th>transport_type</th>\n",
              "      <th>price_in_cents</th>\n",
              "    </tr>\n",
              "  </thead>\n",
              "  <tbody>\n",
              "    <tr>\n",
              "      <th>0</th>\n",
              "      <td>8385</td>\n",
              "      <td>6.17</td>\n",
              "      <td>503.355132</td>\n",
              "      <td>carpooling</td>\n",
              "      <td>4550</td>\n",
              "    </tr>\n",
              "    <tr>\n",
              "      <th>1</th>\n",
              "      <td>9</td>\n",
              "      <td>17.83</td>\n",
              "      <td>503.355132</td>\n",
              "      <td>bus</td>\n",
              "      <td>1450</td>\n",
              "    </tr>\n",
              "    <tr>\n",
              "      <th>2</th>\n",
              "      <td>8377</td>\n",
              "      <td>31.95</td>\n",
              "      <td>503.355132</td>\n",
              "      <td>train</td>\n",
              "      <td>7400</td>\n",
              "    </tr>\n",
              "    <tr>\n",
              "      <th>3</th>\n",
              "      <td>8377</td>\n",
              "      <td>21.58</td>\n",
              "      <td>503.355132</td>\n",
              "      <td>train</td>\n",
              "      <td>13500</td>\n",
              "    </tr>\n",
              "    <tr>\n",
              "      <th>4</th>\n",
              "      <td>8381</td>\n",
              "      <td>21.77</td>\n",
              "      <td>503.355132</td>\n",
              "      <td>train</td>\n",
              "      <td>7710</td>\n",
              "    </tr>\n",
              "  </tbody>\n",
              "</table>\n",
              "</div>"
            ],
            "text/plain": [
              "   company  duration_hours  distance_km transport_type  price_in_cents\n",
              "0     8385            6.17   503.355132     carpooling            4550\n",
              "1        9           17.83   503.355132            bus            1450\n",
              "2     8377           31.95   503.355132          train            7400\n",
              "3     8377           21.58   503.355132          train           13500\n",
              "4     8381           21.77   503.355132          train            7710"
            ]
          },
          "metadata": {
            "tags": []
          },
          "execution_count": 13
        }
      ]
    },
    {
      "cell_type": "markdown",
      "metadata": {
        "id": "z_6TSpyLS8KY"
      },
      "source": [
        "### a) Etude des gadgets sur le prix du billet"
      ]
    },
    {
      "cell_type": "markdown",
      "metadata": {
        "id": "OGjehxs-VSgR"
      },
      "source": [
        "#### Création d'une nouvelle table"
      ]
    },
    {
      "cell_type": "markdown",
      "metadata": {
        "id": "fse2uibHTCZn"
      },
      "source": [
        "Dans cette partie, nous allons étudier la répartition du prix des billets en fonction des gadgets du trajet (wifi, plug, bicycle) et de la compagnie.\r\n",
        "\r\n",
        "On va alors extraire ces données de la table providers.csv de la même manière que pour extraire la catégorie de transport. \r\n",
        "\r\n",
        "On ajoute toutefois une petite différence : on convertie toutes les valeurs True et False par des valeurs binaires 1 ou 0 avec la fonction has_an_element suivante : "
      ]
    },
    {
      "cell_type": "code",
      "metadata": {
        "id": "iQUjlluxCJ7Z"
      },
      "source": [
        "#On définie une fonction simple qui convertie les String \"True\" et \"False\" en valeurs binaires 0 et 1\r\n",
        "def has_an_element(element):\r\n",
        "  if element == 'True' : \r\n",
        "    return 1\r\n",
        "  elif element == 'False': \r\n",
        "    return 0"
      ],
      "execution_count": 11,
      "outputs": []
    },
    {
      "cell_type": "markdown",
      "metadata": {
        "id": "y06JitIgT5DS"
      },
      "source": [
        "On réalise maintenant l'extraction des colonnes qui nous interessent"
      ]
    },
    {
      "cell_type": "code",
      "metadata": {
        "id": "WnVr-phUvJVs"
      },
      "source": [
        "name = []\r\n",
        "wifi = []\r\n",
        "plug = []\r\n",
        "adjustable_seat = []\r\n",
        "bicycle = []\r\n",
        "\r\n",
        "for k in range(74168):\r\n",
        "  #on récupère le compagny_id dans la table ticket_data\r\n",
        "  entreprise_id = ticket_data['company'][k] \r\n",
        "\r\n",
        "  #On ajoute à chaque ligne k les informations : name_company, has_wifi, has_plug, has_adjustable_seats, has_bicycle\r\n",
        "  name.append(str(providers[providers['id'] == entreprise_id]['fullname']).split()[1])  #on ajoute à la liste name le nom de l'entreprise concernée pour le ticket k\r\n",
        "  wifi.append(has_an_element(str(providers[providers['id'] == entreprise_id]['has_wifi']).split()[1])) #on ajoute 1 à la liste wifi si le ticket k a de la wifi, 0 sinon\r\n",
        "  plug.append(has_an_element(str(providers[providers['id'] == entreprise_id]['has_plug']).split()[1])) #on ajoute 1 à la liste plug si le ticket k a du plog, 0 sinon\r\n",
        "  adjustable_seat.append(has_an_element(str(providers[providers['id'] == entreprise_id]['has_adjustable_seats']).split()[1])) #on ajoute 1 à la liste adjustable_seat si le ticket k a un siège ajustable, 0 sinon\r\n",
        "  bicycle.append(has_an_element(str(providers[providers['id'] == entreprise_id]['has_bicycle']).split()[1])) #on ajoute 1 à la liste bicylce si le ticket k peut contenir des vélos, 0 sinon\r\n",
        "\r\n",
        "data_ML['name_company'] = name\r\n",
        "data_ML['has_wifi'] = wifi\r\n",
        "data_ML['has_plug'] = plug\r\n",
        "data_ML['has_adjustable_seat'] = adjustable_seat\r\n",
        "data_ML['has_bicycle'] = bicycle"
      ],
      "execution_count": null,
      "outputs": []
    },
    {
      "cell_type": "markdown",
      "metadata": {
        "id": "6Bch8kkfT_KT"
      },
      "source": [
        "On obtient alors le dataset suivant nous permettant facilement de faire des représentations graphiques. "
      ]
    },
    {
      "cell_type": "code",
      "metadata": {
        "colab": {
          "base_uri": "https://localhost:8080/",
          "height": 202
        },
        "id": "AAklqAv2KrzM",
        "outputId": "e5bd3c8a-bbee-4dee-f81b-c23a4d177485"
      },
      "source": [
        "data_ML.head()"
      ],
      "execution_count": 15,
      "outputs": [
        {
          "output_type": "execute_result",
          "data": {
            "text/html": [
              "<div>\n",
              "<style scoped>\n",
              "    .dataframe tbody tr th:only-of-type {\n",
              "        vertical-align: middle;\n",
              "    }\n",
              "\n",
              "    .dataframe tbody tr th {\n",
              "        vertical-align: top;\n",
              "    }\n",
              "\n",
              "    .dataframe thead th {\n",
              "        text-align: right;\n",
              "    }\n",
              "</style>\n",
              "<table border=\"1\" class=\"dataframe\">\n",
              "  <thead>\n",
              "    <tr style=\"text-align: right;\">\n",
              "      <th></th>\n",
              "      <th>company</th>\n",
              "      <th>duration_hours</th>\n",
              "      <th>distance_km</th>\n",
              "      <th>transport_type</th>\n",
              "      <th>price_in_cents</th>\n",
              "      <th>name_company</th>\n",
              "      <th>has_wifi</th>\n",
              "      <th>has_plug</th>\n",
              "      <th>has_adjustable_seat</th>\n",
              "      <th>has_bicycle</th>\n",
              "    </tr>\n",
              "  </thead>\n",
              "  <tbody>\n",
              "    <tr>\n",
              "      <th>0</th>\n",
              "      <td>8385</td>\n",
              "      <td>6.17</td>\n",
              "      <td>503.355132</td>\n",
              "      <td>carpooling</td>\n",
              "      <td>4550</td>\n",
              "      <td>Blablacar</td>\n",
              "      <td>0.0</td>\n",
              "      <td>0.0</td>\n",
              "      <td>0.0</td>\n",
              "      <td>0.0</td>\n",
              "    </tr>\n",
              "    <tr>\n",
              "      <th>1</th>\n",
              "      <td>9</td>\n",
              "      <td>17.83</td>\n",
              "      <td>503.355132</td>\n",
              "      <td>bus</td>\n",
              "      <td>1450</td>\n",
              "      <td>Ouibus</td>\n",
              "      <td>1.0</td>\n",
              "      <td>1.0</td>\n",
              "      <td>1.0</td>\n",
              "      <td>0.0</td>\n",
              "    </tr>\n",
              "    <tr>\n",
              "      <th>2</th>\n",
              "      <td>8377</td>\n",
              "      <td>31.95</td>\n",
              "      <td>503.355132</td>\n",
              "      <td>train</td>\n",
              "      <td>7400</td>\n",
              "      <td>Intercités</td>\n",
              "      <td>0.0</td>\n",
              "      <td>0.0</td>\n",
              "      <td>1.0</td>\n",
              "      <td>0.0</td>\n",
              "    </tr>\n",
              "    <tr>\n",
              "      <th>3</th>\n",
              "      <td>8377</td>\n",
              "      <td>21.58</td>\n",
              "      <td>503.355132</td>\n",
              "      <td>train</td>\n",
              "      <td>13500</td>\n",
              "      <td>Intercités</td>\n",
              "      <td>0.0</td>\n",
              "      <td>0.0</td>\n",
              "      <td>1.0</td>\n",
              "      <td>0.0</td>\n",
              "    </tr>\n",
              "    <tr>\n",
              "      <th>4</th>\n",
              "      <td>8381</td>\n",
              "      <td>21.77</td>\n",
              "      <td>503.355132</td>\n",
              "      <td>train</td>\n",
              "      <td>7710</td>\n",
              "      <td>Intercités</td>\n",
              "      <td>0.0</td>\n",
              "      <td>0.0</td>\n",
              "      <td>1.0</td>\n",
              "      <td>0.0</td>\n",
              "    </tr>\n",
              "  </tbody>\n",
              "</table>\n",
              "</div>"
            ],
            "text/plain": [
              "   company  duration_hours  ...  has_adjustable_seat has_bicycle\n",
              "0     8385            6.17  ...                  0.0         0.0\n",
              "1        9           17.83  ...                  1.0         0.0\n",
              "2     8377           31.95  ...                  1.0         0.0\n",
              "3     8377           21.58  ...                  1.0         0.0\n",
              "4     8381           21.77  ...                  1.0         0.0\n",
              "\n",
              "[5 rows x 10 columns]"
            ]
          },
          "metadata": {
            "tags": []
          },
          "execution_count": 15
        }
      ]
    },
    {
      "cell_type": "markdown",
      "metadata": {
        "id": "tJn2ceSPVZ3I"
      },
      "source": [
        "#### Répartition des prix en fonction des compagnies"
      ]
    },
    {
      "cell_type": "markdown",
      "metadata": {
        "id": "OtdC2MlSULUZ"
      },
      "source": [
        "On représente d'abord le prix en fonction des compagnies. On constate que les compagnies les plus chères sont les compagnies de train vers l'étranger (thalys et Eurostar) et les compagnies les moins chères sont les compagnies de covoiturage avec notamment Blablacar. \r\n",
        "\r\n",
        "On remarque également que TGV et Eurostar sont les compagnies avec l'écart type le plus élevé (autrement dit avec les prix les plus éparpillé)."
      ]
    },
    {
      "cell_type": "code",
      "metadata": {
        "colab": {
          "base_uri": "https://localhost:8080/",
          "height": 919
        },
        "id": "uf0XYw6RSOo3",
        "outputId": "9a6366f5-e8ea-4734-97ce-840f65202bdb"
      },
      "source": [
        "plt.figure(figsize=(15, 15))\r\n",
        "sns.boxplot(data=data_ML, x='name_company', y='price_in_cents').set_title(\"Répartition des prix en fonction des compagnies\" , fontsize=15)\r\n",
        "  "
      ],
      "execution_count": 168,
      "outputs": [
        {
          "output_type": "execute_result",
          "data": {
            "text/plain": [
              "Text(0.5, 1.0, 'Répartition des prix en fonction des compagnies')"
            ]
          },
          "metadata": {
            "tags": []
          },
          "execution_count": 168
        },
        {
          "output_type": "display_data",
          "data": {
            "image/png": "[encoded data removed]",
            "text/plain": [
              "<Figure size 1080x1080 with 1 Axes>"
            ]
          },
          "metadata": {
            "tags": []
          }
        }
      ]
    },
    {
      "cell_type": "markdown",
      "metadata": {
        "id": "TriJPdq3Vf7Y"
      },
      "source": [
        "#### Répartition des prix en fonction des gadgets"
      ]
    },
    {
      "cell_type": "markdown",
      "metadata": {
        "id": "3RKNCvJ3VxBi"
      },
      "source": [
        "On peut également étudier l'influence des différents gadgets sur le prix du billet. De la même manière, on obtient les graphes suivants : "
      ]
    },
    {
      "cell_type": "code",
      "metadata": {
        "colab": {
          "base_uri": "https://localhost:8080/",
          "height": 1000
        },
        "id": "riFtDfuePx_U",
        "outputId": "8e4cfc45-3db3-4194-8a06-758ff75b6fd8"
      },
      "source": [
        "list = ['has_wifi',\t'has_plug',\t'has_adjustable_seat',\t'has_bicycle']\r\n",
        "\r\n",
        "for element in list: \r\n",
        "  sns.boxplot(data=data_ML, x=element, y='price_in_cents').set_title(\"Répartition des prix en fonction de \" + element, fontsize=15)\r\n",
        "  plt.show()"
      ],
      "execution_count": 116,
      "outputs": [
        {
          "output_type": "display_data",
          "data": {
            "image/png": "[encoded data removed]",
            "text/plain": [
              "<Figure size 432x288 with 1 Axes>"
            ]
          },
          "metadata": {
            "tags": [],
            "needs_background": "light"
          }
        },
        {
          "output_type": "display_data",
          "data": {
            "image/png": "[encoded data removed]",
            "text/plain": [
              "<Figure size 432x288 with 1 Axes>"
            ]
          },
          "metadata": {
            "tags": [],
            "needs_background": "light"
          }
        },
        {
          "output_type": "display_data",
          "data": {
            "image/png": "[encoded data removed]",
            "text/plain": [
              "<Figure size 432x288 with 1 Axes>"
            ]
          },
          "metadata": {
            "tags": [],
            "needs_background": "light"
          }
        },
        {
          "output_type": "display_data",
          "data": {
            "image/png": "[encoded data removed]",
            "text/plain": [
              "<Figure size 432x288 with 1 Axes>"
            ]
          },
          "metadata": {
            "tags": [],
            "needs_background": "light"
          }
        }
      ]
    },
    {
      "cell_type": "markdown",
      "metadata": {
        "id": "0B8XXAdIV_pH"
      },
      "source": [
        "On constate que si la wifi et le plug n'ont pas trop d'influence sur le prix, le fait d'avoir des sièges ajustables ou la possibilité de prendre un vélo augmente considérablement le prix. "
      ]
    },
    {
      "cell_type": "markdown",
      "metadata": {
        "id": "fG7tYjKMXVEO"
      },
      "source": [
        "#### b) Etude de l'évolution des prix en fonction des mois, années et heures. "
      ]
    },
    {
      "cell_type": "markdown",
      "metadata": {
        "id": "d42dnngNXhYT"
      },
      "source": [
        "Je considerais qu'il était intéressant de faire une analyse temporelle des prix et d'étudier les prix en fonction du temps. \r\n",
        "\r\n",
        "J'ai pour cela créé 4 nouvelles colonnes \"year\", \"month\", \"day\" et \"hour\" de la même manière que précédement. On fait de la manière suivante : "
      ]
    },
    {
      "cell_type": "markdown",
      "metadata": {
        "id": "WKqiSEv7YF56"
      },
      "source": [
        "#### Création des colonnes year, month, day, hour"
      ]
    },
    {
      "cell_type": "code",
      "metadata": {
        "id": "QV7NIOx6p62k"
      },
      "source": [
        "years = []\r\n",
        "months = []\r\n",
        "days = []\r\n",
        "hours = []\r\n",
        "\r\n",
        "\r\n",
        "for k in range(74168):\r\n",
        "  years.append(int(ticket_data['departure_ts'][k][:4])) #on ajoute l'année sous forme int\r\n",
        "  months.append(int(ticket_data['departure_ts'][k][5:7])) #on ajoute le mois\r\n",
        "  days.append(int(ticket_data['departure_ts'][k][8:10])) #on ajoute le jour\r\n",
        "  hours.append(int(ticket_data['departure_ts'][k][11:13])) #on ajoute l'heure\r\n",
        "\r\n",
        "data_ML['year'] = years\r\n",
        "data_ML['month'] = months\r\n",
        "data_ML['day'] = days\r\n",
        "data_ML['hour'] = hours"
      ],
      "execution_count": null,
      "outputs": []
    },
    {
      "cell_type": "code",
      "metadata": {
        "colab": {
          "base_uri": "https://localhost:8080/",
          "height": 202
        },
        "id": "ipFN5XAnbQru",
        "outputId": "68fbd3ac-5ee0-4eae-ae40-4ac9909312c3"
      },
      "source": [
        "data_ML.head()"
      ],
      "execution_count": 13,
      "outputs": [
        {
          "output_type": "execute_result",
          "data": {
            "text/html": [
              "<div>\n",
              "<style scoped>\n",
              "    .dataframe tbody tr th:only-of-type {\n",
              "        vertical-align: middle;\n",
              "    }\n",
              "\n",
              "    .dataframe tbody tr th {\n",
              "        vertical-align: top;\n",
              "    }\n",
              "\n",
              "    .dataframe thead th {\n",
              "        text-align: right;\n",
              "    }\n",
              "</style>\n",
              "<table border=\"1\" class=\"dataframe\">\n",
              "  <thead>\n",
              "    <tr style=\"text-align: right;\">\n",
              "      <th></th>\n",
              "      <th>company</th>\n",
              "      <th>duration_hours</th>\n",
              "      <th>distance_km</th>\n",
              "      <th>transport_type</th>\n",
              "      <th>price_in_cents</th>\n",
              "      <th>name_company</th>\n",
              "      <th>has_wifi</th>\n",
              "      <th>has_plug</th>\n",
              "      <th>has_adjustable_seat</th>\n",
              "      <th>has_bicycle</th>\n",
              "      <th>year</th>\n",
              "      <th>month</th>\n",
              "      <th>day</th>\n",
              "      <th>hour</th>\n",
              "    </tr>\n",
              "  </thead>\n",
              "  <tbody>\n",
              "    <tr>\n",
              "      <th>0</th>\n",
              "      <td>8385</td>\n",
              "      <td>6.17</td>\n",
              "      <td>503.355132</td>\n",
              "      <td>carpooling</td>\n",
              "      <td>4550</td>\n",
              "      <td>Blablacar</td>\n",
              "      <td>0.0</td>\n",
              "      <td>0.0</td>\n",
              "      <td>0.0</td>\n",
              "      <td>0.0</td>\n",
              "      <td>2017</td>\n",
              "      <td>10</td>\n",
              "      <td>13</td>\n",
              "      <td>14</td>\n",
              "    </tr>\n",
              "    <tr>\n",
              "      <th>1</th>\n",
              "      <td>9</td>\n",
              "      <td>17.83</td>\n",
              "      <td>503.355132</td>\n",
              "      <td>bus</td>\n",
              "      <td>1450</td>\n",
              "      <td>Ouibus</td>\n",
              "      <td>1.0</td>\n",
              "      <td>1.0</td>\n",
              "      <td>1.0</td>\n",
              "      <td>0.0</td>\n",
              "      <td>2017</td>\n",
              "      <td>10</td>\n",
              "      <td>13</td>\n",
              "      <td>13</td>\n",
              "    </tr>\n",
              "    <tr>\n",
              "      <th>2</th>\n",
              "      <td>8377</td>\n",
              "      <td>31.95</td>\n",
              "      <td>503.355132</td>\n",
              "      <td>train</td>\n",
              "      <td>7400</td>\n",
              "      <td>Intercités</td>\n",
              "      <td>0.0</td>\n",
              "      <td>0.0</td>\n",
              "      <td>1.0</td>\n",
              "      <td>0.0</td>\n",
              "      <td>2017</td>\n",
              "      <td>10</td>\n",
              "      <td>13</td>\n",
              "      <td>13</td>\n",
              "    </tr>\n",
              "    <tr>\n",
              "      <th>3</th>\n",
              "      <td>8377</td>\n",
              "      <td>21.58</td>\n",
              "      <td>503.355132</td>\n",
              "      <td>train</td>\n",
              "      <td>13500</td>\n",
              "      <td>Intercités</td>\n",
              "      <td>0.0</td>\n",
              "      <td>0.0</td>\n",
              "      <td>1.0</td>\n",
              "      <td>0.0</td>\n",
              "      <td>2017</td>\n",
              "      <td>10</td>\n",
              "      <td>13</td>\n",
              "      <td>13</td>\n",
              "    </tr>\n",
              "    <tr>\n",
              "      <th>4</th>\n",
              "      <td>8381</td>\n",
              "      <td>21.77</td>\n",
              "      <td>503.355132</td>\n",
              "      <td>train</td>\n",
              "      <td>7710</td>\n",
              "      <td>Intercités</td>\n",
              "      <td>0.0</td>\n",
              "      <td>0.0</td>\n",
              "      <td>1.0</td>\n",
              "      <td>0.0</td>\n",
              "      <td>2017</td>\n",
              "      <td>10</td>\n",
              "      <td>13</td>\n",
              "      <td>21</td>\n",
              "    </tr>\n",
              "  </tbody>\n",
              "</table>\n",
              "</div>"
            ],
            "text/plain": [
              "   company  duration_hours  distance_km transport_type  ...  year month  day  hour\n",
              "0     8385            6.17   503.355132     carpooling  ...  2017    10   13    14\n",
              "1        9           17.83   503.355132            bus  ...  2017    10   13    13\n",
              "2     8377           31.95   503.355132          train  ...  2017    10   13    13\n",
              "3     8377           21.58   503.355132          train  ...  2017    10   13    13\n",
              "4     8381           21.77   503.355132          train  ...  2017    10   13    21\n",
              "\n",
              "[5 rows x 14 columns]"
            ]
          },
          "metadata": {
            "tags": []
          },
          "execution_count": 13
        }
      ]
    },
    {
      "cell_type": "markdown",
      "metadata": {
        "id": "9ufYEUBlr44w"
      },
      "source": [
        "#### Visualisation"
      ]
    },
    {
      "cell_type": "markdown",
      "metadata": {
        "id": "5c7XRNQdweps"
      },
      "source": [
        "Tout d'abord, il aurait été intéressant d'étudier l'évolution des prix au cours des dernières années pour voir s'il y a une évolution significative des prix ainsi que l'évolution des prix sur une année (évolution sur au cours des mois) pour voir si on peut observer des saisonalités. \r\n",
        "\r\n",
        "Cependant, nous avons des données seulement pour l'année 2017 et principalemennt pour le mois d'octobre (mois 10), comme le montre le graphe ci-dessous. De telles ananlyses ne peuvent alors être effectuées... "
      ]
    },
    {
      "cell_type": "code",
      "metadata": {
        "colab": {
          "base_uri": "https://localhost:8080/"
        },
        "id": "LmC8AAPPvdBb",
        "outputId": "0f8f122a-6588-46cc-f3e9-ba378cab067f"
      },
      "source": [
        "print('=======================================')\r\n",
        "print('Répartition des mois dans le dataset étudié :')\r\n",
        "print(data_ML['month'].value_counts())\r\n",
        "\r\n",
        "print('=======================================')\r\n",
        "print('Répartition des années dans le dataset étudié :')\r\n",
        "print(data_ML['year'].value_counts())"
      ],
      "execution_count": 151,
      "outputs": [
        {
          "output_type": "stream",
          "text": [
            "=======================================\n",
            "Répartition des mois dans le dataset étudié :\n",
            "10    69907\n",
            "11     2969\n",
            "12      881\n",
            "9       254\n",
            "1       100\n",
            "2        30\n",
            "3        27\n",
            "Name: month, dtype: int64\n",
            "=======================================\n",
            "Répartition des années dans le dataset étudié :\n",
            "2017    74011\n",
            "2018      157\n",
            "Name: year, dtype: int64\n"
          ],
          "name": "stdout"
        }
      ]
    },
    {
      "cell_type": "markdown",
      "metadata": {
        "id": "m75f1bfFz4lE"
      },
      "source": [
        "On peut toutefois faire une représentation temporelle des données qu'on possède. On obtient le résultat suivant : "
      ]
    },
    {
      "cell_type": "markdown",
      "metadata": {
        "id": "e31GYmKdPiLk"
      },
      "source": [
        "#### Réprésentation temporelle"
      ]
    },
    {
      "cell_type": "code",
      "metadata": {
        "colab": {
          "base_uri": "https://localhost:8080/",
          "height": 313
        },
        "id": "ADgDpzbIt049",
        "outputId": "4e9ac2b4-246a-4e7a-e72e-331aeee4d935"
      },
      "source": [
        "#On trie les données par ordre c\r\n",
        "ticket_data.sort_values('departure_ts')\r\n",
        "ticket_data.plot(x=\"departure_ts\", y=\"price_in_cents\", figsize=(14,4))\r\n",
        "plt.title(\"Evolution du prix des billets sur l'année 2017\")\r\n",
        "plt.xlabel(\"année 2017\")\r\n",
        "plt.ylabel(\"price (cents)\")\r\n"
      ],
      "execution_count": 155,
      "outputs": [
        {
          "output_type": "execute_result",
          "data": {
            "text/plain": [
              "Text(0, 0.5, 'price (cents)')"
            ]
          },
          "metadata": {
            "tags": []
          },
          "execution_count": 155
        },
        {
          "output_type": "display_data",
          "data": {
            "image/png": "[encoded data removed]",
            "text/plain": [
              "<Figure size 1008x288 with 1 Axes>"
            ]
          },
          "metadata": {
            "tags": [],
            "needs_background": "light"
          }
        }
      ]
    },
    {
      "cell_type": "markdown",
      "metadata": {
        "id": "xBLsMs6oLKnr"
      },
      "source": [
        "On remarque une légère augmentation du prix entre le début et la fin de l'année 2017"
      ]
    },
    {
      "cell_type": "markdown",
      "metadata": {
        "id": "yaSt9aZiPpUe"
      },
      "source": [
        "#### Nombre de trajets par mois"
      ]
    },
    {
      "cell_type": "code",
      "metadata": {
        "colab": {
          "base_uri": "https://localhost:8080/",
          "height": 551
        },
        "id": "y9YOebynMrpw",
        "outputId": "e3fc978b-5940-42b6-98fc-af7786746258"
      },
      "source": [
        "sns.set(rc={'figure.figsize':(11.7,8.27)})\r\n",
        "sns.countplot(x='day', data=data_ML).set_title(\"Nombre de trajets ayant eu lieu sur le mois d'octobre 2017\")"
      ],
      "execution_count": 164,
      "outputs": [
        {
          "output_type": "execute_result",
          "data": {
            "text/plain": [
              "Text(0.5, 1.0, \"Nombre de trajets ayant eu lieu sur le mois d'octobre 2017\")"
            ]
          },
          "metadata": {
            "tags": []
          },
          "execution_count": 164
        },
        {
          "output_type": "display_data",
          "data": {
            "image/png": "[encoded data removed]",
            "text/plain": [
              "<Figure size 842.4x595.44 with 1 Axes>"
            ]
          },
          "metadata": {
            "tags": []
          }
        }
      ]
    },
    {
      "cell_type": "markdown",
      "metadata": {
        "id": "6FN7KuyLPE__"
      },
      "source": [
        "Il est interessant de constater qu'on observe 3 pics le 6, 13 et 20 octobre, qui correspondent tous 3 à des vendredi. Cela est cohérent car lors des départs en weekend, les gens ont plus tendance à faire des trajets longs. \r\n",
        "\r\n",
        "On remarque une saisonalité par semaine : il y a un pic le vendredi et plus de départs le samedi, dimanche et lundi qu'en semaine"
      ]
    },
    {
      "cell_type": "markdown",
      "metadata": {
        "id": "s4u7CTk5P1sg"
      },
      "source": [
        "#### Nombre de trajet par heure"
      ]
    },
    {
      "cell_type": "code",
      "metadata": {
        "colab": {
          "base_uri": "https://localhost:8080/",
          "height": 551
        },
        "id": "_SCwVC9-QAtz",
        "outputId": "58b8a182-b4e5-400b-e64a-0d7f5fa91952"
      },
      "source": [
        "sns.set(rc={'figure.figsize':(11.7,8.27)})\r\n",
        "sns.countplot(x='hour', data=data_ML).set_title(\"Nombre de trajets ayant eu lieu sur une journée en octobre 2017\")"
      ],
      "execution_count": 167,
      "outputs": [
        {
          "output_type": "execute_result",
          "data": {
            "text/plain": [
              "Text(0.5, 1.0, 'Nombre de trajets ayant eu lieu sur une journée en octobre 2017')"
            ]
          },
          "metadata": {
            "tags": []
          },
          "execution_count": 167
        },
        {
          "output_type": "display_data",
          "data": {
            "image/png": "[encoded data removed]",
            "text/plain": [
              "<Figure size 842.4x595.44 with 1 Axes>"
            ]
          },
          "metadata": {
            "tags": []
          }
        }
      ]
    },
    {
      "cell_type": "code",
      "metadata": {
        "colab": {
          "base_uri": "https://localhost:8080/",
          "height": 919
        },
        "id": "rXmhZJ1rLEfT",
        "outputId": "a5a85aa6-4c90-454f-fc2d-a97d6c702783"
      },
      "source": [
        "plt.figure(figsize=(15, 15))\r\n",
        "sns.boxplot(data=data_ML, x='hour', y='price_in_cents').set_title(\"Répartition des prix en fonction de l'heure de la journée\", fontsize=15)"
      ],
      "execution_count": 172,
      "outputs": [
        {
          "output_type": "execute_result",
          "data": {
            "text/plain": [
              "Text(0.5, 1.0, \"Répartition des prix en fonction de l'heure de la journée\")"
            ]
          },
          "metadata": {
            "tags": []
          },
          "execution_count": 172
        },
        {
          "output_type": "display_data",
          "data": {
            "image/png": "[encoded data removed]",
            "text/plain": [
              "<Figure size 1080x1080 with 1 Axes>"
            ]
          },
          "metadata": {
            "tags": []
          }
        }
      ]
    },
    {
      "cell_type": "markdown",
      "metadata": {
        "id": "-DmJXlNOQxus"
      },
      "source": [
        "Si le prix moyen à l'heure ne varie pas trop sur une journée, on peut constater que ce prix est beaucoup plus variable (écart type beaucoup plus important) pour des trajets de journée que de nuit"
      ]
    },
    {
      "cell_type": "markdown",
      "metadata": {
        "id": "HJJnzTbNRTXm"
      },
      "source": [
        "# IV/ Machine learning"
      ]
    },
    {
      "cell_type": "markdown",
      "metadata": {
        "id": "nv7fJMSb5i1l"
      },
      "source": [
        "Dans cette dernière partie, nous voulons appliquer des algorithmes de Machine Learning au jeu de données pour prédire le prix des billets en fonction de différents features. "
      ]
    },
    {
      "cell_type": "markdown",
      "metadata": {
        "id": "k0pX4-wH6_ic"
      },
      "source": [
        "### a) Préparation"
      ]
    },
    {
      "cell_type": "markdown",
      "metadata": {
        "id": "JIaBkQ2F57z6"
      },
      "source": [
        "#### Préparation des données pour le Machine Learning"
      ]
    },
    {
      "cell_type": "markdown",
      "metadata": {
        "id": "JGwocfCmdTlC"
      },
      "source": [
        "Nous avons peu de valeurs pour le mois et l'année. On supprime alors ces colonnes pour le Machine Learning. La nouvelle expression de data_ML, tableau sur lequel nous allons traiter les données est donc : "
      ]
    },
    {
      "cell_type": "code",
      "metadata": {
        "colab": {
          "base_uri": "https://localhost:8080/",
          "height": 415
        },
        "id": "ejhwxa8iRTA3",
        "outputId": "cdb54d90-9f2d-4035-d11a-bb370cbfd688"
      },
      "source": [
        "data_ML = data_ML.drop(['company', 'month', 'year'], axis=1)\r\n",
        "data_ML"
      ],
      "execution_count": 17,
      "outputs": [
        {
          "output_type": "execute_result",
          "data": {
            "text/html": [
              "<div>\n",
              "<style scoped>\n",
              "    .dataframe tbody tr th:only-of-type {\n",
              "        vertical-align: middle;\n",
              "    }\n",
              "\n",
              "    .dataframe tbody tr th {\n",
              "        vertical-align: top;\n",
              "    }\n",
              "\n",
              "    .dataframe thead th {\n",
              "        text-align: right;\n",
              "    }\n",
              "</style>\n",
              "<table border=\"1\" class=\"dataframe\">\n",
              "  <thead>\n",
              "    <tr style=\"text-align: right;\">\n",
              "      <th></th>\n",
              "      <th>duration_hours</th>\n",
              "      <th>distance_km</th>\n",
              "      <th>transport_type</th>\n",
              "      <th>price_in_cents</th>\n",
              "      <th>name_company</th>\n",
              "      <th>has_wifi</th>\n",
              "      <th>has_plug</th>\n",
              "      <th>has_adjustable_seat</th>\n",
              "      <th>has_bicycle</th>\n",
              "      <th>day</th>\n",
              "      <th>hour</th>\n",
              "    </tr>\n",
              "  </thead>\n",
              "  <tbody>\n",
              "    <tr>\n",
              "      <th>0</th>\n",
              "      <td>6.17</td>\n",
              "      <td>503.355132</td>\n",
              "      <td>carpooling</td>\n",
              "      <td>4550</td>\n",
              "      <td>Blablacar</td>\n",
              "      <td>0.0</td>\n",
              "      <td>0.0</td>\n",
              "      <td>0.0</td>\n",
              "      <td>0.0</td>\n",
              "      <td>13</td>\n",
              "      <td>14</td>\n",
              "    </tr>\n",
              "    <tr>\n",
              "      <th>1</th>\n",
              "      <td>17.83</td>\n",
              "      <td>503.355132</td>\n",
              "      <td>bus</td>\n",
              "      <td>1450</td>\n",
              "      <td>Ouibus</td>\n",
              "      <td>1.0</td>\n",
              "      <td>1.0</td>\n",
              "      <td>1.0</td>\n",
              "      <td>0.0</td>\n",
              "      <td>13</td>\n",
              "      <td>13</td>\n",
              "    </tr>\n",
              "    <tr>\n",
              "      <th>2</th>\n",
              "      <td>31.95</td>\n",
              "      <td>503.355132</td>\n",
              "      <td>train</td>\n",
              "      <td>7400</td>\n",
              "      <td>Intercités</td>\n",
              "      <td>0.0</td>\n",
              "      <td>0.0</td>\n",
              "      <td>1.0</td>\n",
              "      <td>0.0</td>\n",
              "      <td>13</td>\n",
              "      <td>13</td>\n",
              "    </tr>\n",
              "    <tr>\n",
              "      <th>3</th>\n",
              "      <td>21.58</td>\n",
              "      <td>503.355132</td>\n",
              "      <td>train</td>\n",
              "      <td>13500</td>\n",
              "      <td>Intercités</td>\n",
              "      <td>0.0</td>\n",
              "      <td>0.0</td>\n",
              "      <td>1.0</td>\n",
              "      <td>0.0</td>\n",
              "      <td>13</td>\n",
              "      <td>13</td>\n",
              "    </tr>\n",
              "    <tr>\n",
              "      <th>4</th>\n",
              "      <td>21.77</td>\n",
              "      <td>503.355132</td>\n",
              "      <td>train</td>\n",
              "      <td>7710</td>\n",
              "      <td>Intercités</td>\n",
              "      <td>0.0</td>\n",
              "      <td>0.0</td>\n",
              "      <td>1.0</td>\n",
              "      <td>0.0</td>\n",
              "      <td>13</td>\n",
              "      <td>21</td>\n",
              "    </tr>\n",
              "    <tr>\n",
              "      <th>...</th>\n",
              "      <td>...</td>\n",
              "      <td>...</td>\n",
              "      <td>...</td>\n",
              "      <td>...</td>\n",
              "      <td>...</td>\n",
              "      <td>...</td>\n",
              "      <td>...</td>\n",
              "      <td>...</td>\n",
              "      <td>...</td>\n",
              "      <td>...</td>\n",
              "      <td>...</td>\n",
              "    </tr>\n",
              "    <tr>\n",
              "      <th>74163</th>\n",
              "      <td>13.50</td>\n",
              "      <td>338.426341</td>\n",
              "      <td>bus</td>\n",
              "      <td>2590</td>\n",
              "      <td>Flixbus</td>\n",
              "      <td>1.0</td>\n",
              "      <td>0.0</td>\n",
              "      <td>0.0</td>\n",
              "      <td>0.0</td>\n",
              "      <td>27</td>\n",
              "      <td>2</td>\n",
              "    </tr>\n",
              "    <tr>\n",
              "      <th>74164</th>\n",
              "      <td>6.50</td>\n",
              "      <td>338.426341</td>\n",
              "      <td>bus</td>\n",
              "      <td>2700</td>\n",
              "      <td>Ouibus</td>\n",
              "      <td>1.0</td>\n",
              "      <td>1.0</td>\n",
              "      <td>1.0</td>\n",
              "      <td>0.0</td>\n",
              "      <td>27</td>\n",
              "      <td>7</td>\n",
              "    </tr>\n",
              "    <tr>\n",
              "      <th>74165</th>\n",
              "      <td>6.75</td>\n",
              "      <td>338.426341</td>\n",
              "      <td>bus</td>\n",
              "      <td>3000</td>\n",
              "      <td>Isilines</td>\n",
              "      <td>1.0</td>\n",
              "      <td>1.0</td>\n",
              "      <td>1.0</td>\n",
              "      <td>0.0</td>\n",
              "      <td>27</td>\n",
              "      <td>8</td>\n",
              "    </tr>\n",
              "    <tr>\n",
              "      <th>74166</th>\n",
              "      <td>7.75</td>\n",
              "      <td>338.426341</td>\n",
              "      <td>bus</td>\n",
              "      <td>2880</td>\n",
              "      <td>Flixbus</td>\n",
              "      <td>1.0</td>\n",
              "      <td>0.0</td>\n",
              "      <td>0.0</td>\n",
              "      <td>0.0</td>\n",
              "      <td>27</td>\n",
              "      <td>13</td>\n",
              "    </tr>\n",
              "    <tr>\n",
              "      <th>74167</th>\n",
              "      <td>6.92</td>\n",
              "      <td>338.426341</td>\n",
              "      <td>bus</td>\n",
              "      <td>2000</td>\n",
              "      <td>Isilines</td>\n",
              "      <td>1.0</td>\n",
              "      <td>1.0</td>\n",
              "      <td>1.0</td>\n",
              "      <td>0.0</td>\n",
              "      <td>27</td>\n",
              "      <td>14</td>\n",
              "    </tr>\n",
              "  </tbody>\n",
              "</table>\n",
              "<p>74168 rows × 11 columns</p>\n",
              "</div>"
            ],
            "text/plain": [
              "       duration_hours  distance_km transport_type  ...  has_bicycle day  hour\n",
              "0                6.17   503.355132     carpooling  ...          0.0  13    14\n",
              "1               17.83   503.355132            bus  ...          0.0  13    13\n",
              "2               31.95   503.355132          train  ...          0.0  13    13\n",
              "3               21.58   503.355132          train  ...          0.0  13    13\n",
              "4               21.77   503.355132          train  ...          0.0  13    21\n",
              "...               ...          ...            ...  ...          ...  ..   ...\n",
              "74163           13.50   338.426341            bus  ...          0.0  27     2\n",
              "74164            6.50   338.426341            bus  ...          0.0  27     7\n",
              "74165            6.75   338.426341            bus  ...          0.0  27     8\n",
              "74166            7.75   338.426341            bus  ...          0.0  27    13\n",
              "74167            6.92   338.426341            bus  ...          0.0  27    14\n",
              "\n",
              "[74168 rows x 11 columns]"
            ]
          },
          "metadata": {
            "tags": []
          },
          "execution_count": 17
        }
      ]
    },
    {
      "cell_type": "markdown",
      "metadata": {
        "id": "rj3C-mqc4zjv"
      },
      "source": [
        "Nous voulons appliquer des algorithmes de machine learning aux données suivantes pour essayer de prédire le prix des billets en fonction du type de trasnport, de la distance, de la durée, de la compagnie et des gadgets. \r\n",
        "\r\n",
        "Toutefois, pour appliquer des algorithmes de Machine Learning nous devons transformer tous les string en float. On applique alors un One Encoding pour encoder tous les strings sous une forme binaire. \r\n",
        "\r\n",
        "De plus, il faut penser à enlever les quelques lignes avec des valeurs manquantes. \r\n",
        "\r\n",
        "On obtient alors : "
      ]
    },
    {
      "cell_type": "code",
      "metadata": {
        "colab": {
          "base_uri": "https://localhost:8080/",
          "height": 435
        },
        "id": "vx2xUArhRmKU",
        "outputId": "cd87f574-6d68-4c0f-bbce-21a9641454a3"
      },
      "source": [
        "#One Hot Encoding\r\n",
        "df = pd.get_dummies(data_ML)\r\n",
        "\r\n",
        "#On enleve les lignes NaN\r\n",
        "df = df.dropna()\r\n",
        "df"
      ],
      "execution_count": 18,
      "outputs": [
        {
          "output_type": "execute_result",
          "data": {
            "text/html": [
              "<div>\n",
              "<style scoped>\n",
              "    .dataframe tbody tr th:only-of-type {\n",
              "        vertical-align: middle;\n",
              "    }\n",
              "\n",
              "    .dataframe tbody tr th {\n",
              "        vertical-align: top;\n",
              "    }\n",
              "\n",
              "    .dataframe thead th {\n",
              "        text-align: right;\n",
              "    }\n",
              "</style>\n",
              "<table border=\"1\" class=\"dataframe\">\n",
              "  <thead>\n",
              "    <tr style=\"text-align: right;\">\n",
              "      <th></th>\n",
              "      <th>duration_hours</th>\n",
              "      <th>distance_km</th>\n",
              "      <th>price_in_cents</th>\n",
              "      <th>has_wifi</th>\n",
              "      <th>has_plug</th>\n",
              "      <th>has_adjustable_seat</th>\n",
              "      <th>has_bicycle</th>\n",
              "      <th>day</th>\n",
              "      <th>hour</th>\n",
              "      <th>transport_type_bus</th>\n",
              "      <th>transport_type_carpooling</th>\n",
              "      <th>transport_type_train</th>\n",
              "      <th>name_company_Blablacar</th>\n",
              "      <th>name_company_Deinbus.de</th>\n",
              "      <th>name_company_Eurolines</th>\n",
              "      <th>name_company_Eurostar</th>\n",
              "      <th>name_company_ExpressBus</th>\n",
              "      <th>name_company_Flixbus</th>\n",
              "      <th>name_company_Globtour</th>\n",
              "      <th>name_company_Intercités</th>\n",
              "      <th>name_company_Isilines</th>\n",
              "      <th>name_company_National</th>\n",
              "      <th>name_company_Navette</th>\n",
              "      <th>name_company_Ouibus</th>\n",
              "      <th>name_company_Student</th>\n",
              "      <th>name_company_TER</th>\n",
              "      <th>name_company_TGV</th>\n",
              "      <th>name_company_Thalys</th>\n",
              "      <th>name_company_Vatry</th>\n",
              "    </tr>\n",
              "  </thead>\n",
              "  <tbody>\n",
              "    <tr>\n",
              "      <th>0</th>\n",
              "      <td>6.17</td>\n",
              "      <td>503.355132</td>\n",
              "      <td>4550</td>\n",
              "      <td>0.0</td>\n",
              "      <td>0.0</td>\n",
              "      <td>0.0</td>\n",
              "      <td>0.0</td>\n",
              "      <td>13</td>\n",
              "      <td>14</td>\n",
              "      <td>0</td>\n",
              "      <td>1</td>\n",
              "      <td>0</td>\n",
              "      <td>1</td>\n",
              "      <td>0</td>\n",
              "      <td>0</td>\n",
              "      <td>0</td>\n",
              "      <td>0</td>\n",
              "      <td>0</td>\n",
              "      <td>0</td>\n",
              "      <td>0</td>\n",
              "      <td>0</td>\n",
              "      <td>0</td>\n",
              "      <td>0</td>\n",
              "      <td>0</td>\n",
              "      <td>0</td>\n",
              "      <td>0</td>\n",
              "      <td>0</td>\n",
              "      <td>0</td>\n",
              "      <td>0</td>\n",
              "    </tr>\n",
              "    <tr>\n",
              "      <th>1</th>\n",
              "      <td>17.83</td>\n",
              "      <td>503.355132</td>\n",
              "      <td>1450</td>\n",
              "      <td>1.0</td>\n",
              "      <td>1.0</td>\n",
              "      <td>1.0</td>\n",
              "      <td>0.0</td>\n",
              "      <td>13</td>\n",
              "      <td>13</td>\n",
              "      <td>1</td>\n",
              "      <td>0</td>\n",
              "      <td>0</td>\n",
              "      <td>0</td>\n",
              "      <td>0</td>\n",
              "      <td>0</td>\n",
              "      <td>0</td>\n",
              "      <td>0</td>\n",
              "      <td>0</td>\n",
              "      <td>0</td>\n",
              "      <td>0</td>\n",
              "      <td>0</td>\n",
              "      <td>0</td>\n",
              "      <td>0</td>\n",
              "      <td>1</td>\n",
              "      <td>0</td>\n",
              "      <td>0</td>\n",
              "      <td>0</td>\n",
              "      <td>0</td>\n",
              "      <td>0</td>\n",
              "    </tr>\n",
              "    <tr>\n",
              "      <th>2</th>\n",
              "      <td>31.95</td>\n",
              "      <td>503.355132</td>\n",
              "      <td>7400</td>\n",
              "      <td>0.0</td>\n",
              "      <td>0.0</td>\n",
              "      <td>1.0</td>\n",
              "      <td>0.0</td>\n",
              "      <td>13</td>\n",
              "      <td>13</td>\n",
              "      <td>0</td>\n",
              "      <td>0</td>\n",
              "      <td>1</td>\n",
              "      <td>0</td>\n",
              "      <td>0</td>\n",
              "      <td>0</td>\n",
              "      <td>0</td>\n",
              "      <td>0</td>\n",
              "      <td>0</td>\n",
              "      <td>0</td>\n",
              "      <td>1</td>\n",
              "      <td>0</td>\n",
              "      <td>0</td>\n",
              "      <td>0</td>\n",
              "      <td>0</td>\n",
              "      <td>0</td>\n",
              "      <td>0</td>\n",
              "      <td>0</td>\n",
              "      <td>0</td>\n",
              "      <td>0</td>\n",
              "    </tr>\n",
              "    <tr>\n",
              "      <th>3</th>\n",
              "      <td>21.58</td>\n",
              "      <td>503.355132</td>\n",
              "      <td>13500</td>\n",
              "      <td>0.0</td>\n",
              "      <td>0.0</td>\n",
              "      <td>1.0</td>\n",
              "      <td>0.0</td>\n",
              "      <td>13</td>\n",
              "      <td>13</td>\n",
              "      <td>0</td>\n",
              "      <td>0</td>\n",
              "      <td>1</td>\n",
              "      <td>0</td>\n",
              "      <td>0</td>\n",
              "      <td>0</td>\n",
              "      <td>0</td>\n",
              "      <td>0</td>\n",
              "      <td>0</td>\n",
              "      <td>0</td>\n",
              "      <td>1</td>\n",
              "      <td>0</td>\n",
              "      <td>0</td>\n",
              "      <td>0</td>\n",
              "      <td>0</td>\n",
              "      <td>0</td>\n",
              "      <td>0</td>\n",
              "      <td>0</td>\n",
              "      <td>0</td>\n",
              "      <td>0</td>\n",
              "    </tr>\n",
              "    <tr>\n",
              "      <th>4</th>\n",
              "      <td>21.77</td>\n",
              "      <td>503.355132</td>\n",
              "      <td>7710</td>\n",
              "      <td>0.0</td>\n",
              "      <td>0.0</td>\n",
              "      <td>1.0</td>\n",
              "      <td>0.0</td>\n",
              "      <td>13</td>\n",
              "      <td>21</td>\n",
              "      <td>0</td>\n",
              "      <td>0</td>\n",
              "      <td>1</td>\n",
              "      <td>0</td>\n",
              "      <td>0</td>\n",
              "      <td>0</td>\n",
              "      <td>0</td>\n",
              "      <td>0</td>\n",
              "      <td>0</td>\n",
              "      <td>0</td>\n",
              "      <td>1</td>\n",
              "      <td>0</td>\n",
              "      <td>0</td>\n",
              "      <td>0</td>\n",
              "      <td>0</td>\n",
              "      <td>0</td>\n",
              "      <td>0</td>\n",
              "      <td>0</td>\n",
              "      <td>0</td>\n",
              "      <td>0</td>\n",
              "    </tr>\n",
              "    <tr>\n",
              "      <th>...</th>\n",
              "      <td>...</td>\n",
              "      <td>...</td>\n",
              "      <td>...</td>\n",
              "      <td>...</td>\n",
              "      <td>...</td>\n",
              "      <td>...</td>\n",
              "      <td>...</td>\n",
              "      <td>...</td>\n",
              "      <td>...</td>\n",
              "      <td>...</td>\n",
              "      <td>...</td>\n",
              "      <td>...</td>\n",
              "      <td>...</td>\n",
              "      <td>...</td>\n",
              "      <td>...</td>\n",
              "      <td>...</td>\n",
              "      <td>...</td>\n",
              "      <td>...</td>\n",
              "      <td>...</td>\n",
              "      <td>...</td>\n",
              "      <td>...</td>\n",
              "      <td>...</td>\n",
              "      <td>...</td>\n",
              "      <td>...</td>\n",
              "      <td>...</td>\n",
              "      <td>...</td>\n",
              "      <td>...</td>\n",
              "      <td>...</td>\n",
              "      <td>...</td>\n",
              "    </tr>\n",
              "    <tr>\n",
              "      <th>74163</th>\n",
              "      <td>13.50</td>\n",
              "      <td>338.426341</td>\n",
              "      <td>2590</td>\n",
              "      <td>1.0</td>\n",
              "      <td>0.0</td>\n",
              "      <td>0.0</td>\n",
              "      <td>0.0</td>\n",
              "      <td>27</td>\n",
              "      <td>2</td>\n",
              "      <td>1</td>\n",
              "      <td>0</td>\n",
              "      <td>0</td>\n",
              "      <td>0</td>\n",
              "      <td>0</td>\n",
              "      <td>0</td>\n",
              "      <td>0</td>\n",
              "      <td>0</td>\n",
              "      <td>1</td>\n",
              "      <td>0</td>\n",
              "      <td>0</td>\n",
              "      <td>0</td>\n",
              "      <td>0</td>\n",
              "      <td>0</td>\n",
              "      <td>0</td>\n",
              "      <td>0</td>\n",
              "      <td>0</td>\n",
              "      <td>0</td>\n",
              "      <td>0</td>\n",
              "      <td>0</td>\n",
              "    </tr>\n",
              "    <tr>\n",
              "      <th>74164</th>\n",
              "      <td>6.50</td>\n",
              "      <td>338.426341</td>\n",
              "      <td>2700</td>\n",
              "      <td>1.0</td>\n",
              "      <td>1.0</td>\n",
              "      <td>1.0</td>\n",
              "      <td>0.0</td>\n",
              "      <td>27</td>\n",
              "      <td>7</td>\n",
              "      <td>1</td>\n",
              "      <td>0</td>\n",
              "      <td>0</td>\n",
              "      <td>0</td>\n",
              "      <td>0</td>\n",
              "      <td>0</td>\n",
              "      <td>0</td>\n",
              "      <td>0</td>\n",
              "      <td>0</td>\n",
              "      <td>0</td>\n",
              "      <td>0</td>\n",
              "      <td>0</td>\n",
              "      <td>0</td>\n",
              "      <td>0</td>\n",
              "      <td>1</td>\n",
              "      <td>0</td>\n",
              "      <td>0</td>\n",
              "      <td>0</td>\n",
              "      <td>0</td>\n",
              "      <td>0</td>\n",
              "    </tr>\n",
              "    <tr>\n",
              "      <th>74165</th>\n",
              "      <td>6.75</td>\n",
              "      <td>338.426341</td>\n",
              "      <td>3000</td>\n",
              "      <td>1.0</td>\n",
              "      <td>1.0</td>\n",
              "      <td>1.0</td>\n",
              "      <td>0.0</td>\n",
              "      <td>27</td>\n",
              "      <td>8</td>\n",
              "      <td>1</td>\n",
              "      <td>0</td>\n",
              "      <td>0</td>\n",
              "      <td>0</td>\n",
              "      <td>0</td>\n",
              "      <td>0</td>\n",
              "      <td>0</td>\n",
              "      <td>0</td>\n",
              "      <td>0</td>\n",
              "      <td>0</td>\n",
              "      <td>0</td>\n",
              "      <td>1</td>\n",
              "      <td>0</td>\n",
              "      <td>0</td>\n",
              "      <td>0</td>\n",
              "      <td>0</td>\n",
              "      <td>0</td>\n",
              "      <td>0</td>\n",
              "      <td>0</td>\n",
              "      <td>0</td>\n",
              "    </tr>\n",
              "    <tr>\n",
              "      <th>74166</th>\n",
              "      <td>7.75</td>\n",
              "      <td>338.426341</td>\n",
              "      <td>2880</td>\n",
              "      <td>1.0</td>\n",
              "      <td>0.0</td>\n",
              "      <td>0.0</td>\n",
              "      <td>0.0</td>\n",
              "      <td>27</td>\n",
              "      <td>13</td>\n",
              "      <td>1</td>\n",
              "      <td>0</td>\n",
              "      <td>0</td>\n",
              "      <td>0</td>\n",
              "      <td>0</td>\n",
              "      <td>0</td>\n",
              "      <td>0</td>\n",
              "      <td>0</td>\n",
              "      <td>1</td>\n",
              "      <td>0</td>\n",
              "      <td>0</td>\n",
              "      <td>0</td>\n",
              "      <td>0</td>\n",
              "      <td>0</td>\n",
              "      <td>0</td>\n",
              "      <td>0</td>\n",
              "      <td>0</td>\n",
              "      <td>0</td>\n",
              "      <td>0</td>\n",
              "      <td>0</td>\n",
              "    </tr>\n",
              "    <tr>\n",
              "      <th>74167</th>\n",
              "      <td>6.92</td>\n",
              "      <td>338.426341</td>\n",
              "      <td>2000</td>\n",
              "      <td>1.0</td>\n",
              "      <td>1.0</td>\n",
              "      <td>1.0</td>\n",
              "      <td>0.0</td>\n",
              "      <td>27</td>\n",
              "      <td>14</td>\n",
              "      <td>1</td>\n",
              "      <td>0</td>\n",
              "      <td>0</td>\n",
              "      <td>0</td>\n",
              "      <td>0</td>\n",
              "      <td>0</td>\n",
              "      <td>0</td>\n",
              "      <td>0</td>\n",
              "      <td>0</td>\n",
              "      <td>0</td>\n",
              "      <td>0</td>\n",
              "      <td>1</td>\n",
              "      <td>0</td>\n",
              "      <td>0</td>\n",
              "      <td>0</td>\n",
              "      <td>0</td>\n",
              "      <td>0</td>\n",
              "      <td>0</td>\n",
              "      <td>0</td>\n",
              "      <td>0</td>\n",
              "    </tr>\n",
              "  </tbody>\n",
              "</table>\n",
              "<p>74152 rows × 29 columns</p>\n",
              "</div>"
            ],
            "text/plain": [
              "       duration_hours  distance_km  ...  name_company_Thalys  name_company_Vatry\n",
              "0                6.17   503.355132  ...                    0                   0\n",
              "1               17.83   503.355132  ...                    0                   0\n",
              "2               31.95   503.355132  ...                    0                   0\n",
              "3               21.58   503.355132  ...                    0                   0\n",
              "4               21.77   503.355132  ...                    0                   0\n",
              "...               ...          ...  ...                  ...                 ...\n",
              "74163           13.50   338.426341  ...                    0                   0\n",
              "74164            6.50   338.426341  ...                    0                   0\n",
              "74165            6.75   338.426341  ...                    0                   0\n",
              "74166            7.75   338.426341  ...                    0                   0\n",
              "74167            6.92   338.426341  ...                    0                   0\n",
              "\n",
              "[74152 rows x 29 columns]"
            ]
          },
          "metadata": {
            "tags": []
          },
          "execution_count": 18
        }
      ]
    },
    {
      "cell_type": "markdown",
      "metadata": {
        "id": "5URGYX6m6GT7"
      },
      "source": [
        "#### Définition des features et du label"
      ]
    },
    {
      "cell_type": "markdown",
      "metadata": {
        "id": "ft5XMXD36Noi"
      },
      "source": [
        "Nous voulons ici essayer de prédire le prix des billets en fonction du type de trasnport, de la distance, de la durée, de la compagnie et des gadgets.\r\n",
        "\r\n",
        "Ainsi nos features (qui correspondent à X) sont : duration_hours,\tdistance_km, has_wifi,\thas_plug,\thas_adjustable_seat,\thas_bicycle,\tday,\thour,\ttransport_type et name_company. \r\n",
        "\r\n",
        "Le label (qui correspond à y) est price_in_cents"
      ]
    },
    {
      "cell_type": "code",
      "metadata": {
        "id": "UPHuPtQ_bKeJ"
      },
      "source": [
        "#X correspond au features\r\n",
        "X = df.drop(['price_in_cents'], axis=1)\r\n",
        "\r\n",
        "#y correspond au label, la \r\n",
        "y = df['price_in_cents']\r\n"
      ],
      "execution_count": 19,
      "outputs": []
    },
    {
      "cell_type": "markdown",
      "metadata": {
        "id": "k2pk0rV27Egc"
      },
      "source": [
        "### b) Application des algorithmes de Machine Learning au dataset"
      ]
    },
    {
      "cell_type": "markdown",
      "metadata": {
        "id": "KRBxn-R9836S"
      },
      "source": [
        "#### Choix de Kfold au lieu d'un classique train_test_split"
      ]
    },
    {
      "cell_type": "markdown",
      "metadata": {
        "id": "xLtKiHoh82Tx"
      },
      "source": [
        "Pour améliorer la précision des différents algorithmee de prédiction que je vais utiliser, et éviter en particulier un surapprentissage, j'ai entrainé l'ensemble de mes algorithmes supervisés sur une validation croisée, en utilisant Kfold de la librairie sklearn. \r\n",
        "\r\n",
        "Cette technique consiste à diviser l'échantillon original en k échantillons, à sélectionner un de ces k échantillons comme ensemble de validation pendant que les k-1 autres échantillons constituent l'ensemble d'apprentissage. \r\n",
        "\r\n",
        "Cette méthode est bien plus précise qu'une division binaire du dataset en une partie d'apprentissage et une seconde de prédiction. \r\n",
        "\r\n",
        "Ici, j'ai choisi de diviser le dataset en 10 parties. "
      ]
    },
    {
      "cell_type": "markdown",
      "metadata": {
        "id": "heYQ-N2H9WRf"
      },
      "source": [
        "#### DecisionTree"
      ]
    },
    {
      "cell_type": "markdown",
      "metadata": {
        "id": "iuBZWxJm7NKG"
      },
      "source": [
        "Dans une première partie, j'ai voulu prédire le prix des billets avec un DécisionTree. \r\n",
        "\r\n",
        "J'ai fait varié l'hyperparamètre max_depth lors de la période d'apprentissage"
      ]
    },
    {
      "cell_type": "code",
      "metadata": {
        "id": "Uoen2fvrh32D"
      },
      "source": [
        "from sklearn.model_selection import KFold\r\n",
        "from sklearn.tree import DecisionTreeRegressor\r\n",
        "from sklearn.metrics import r2_score\r\n",
        "RANDOM_SEED = 45 #graine aléatoire\r\n",
        "\r\n",
        "\r\n",
        "def arbre_de_decision(X,y,n_split=10,max_depth=10):\r\n",
        "    kf = KFold(n_splits=n_split, shuffle=True, random_state=RANDOM_SEED)\r\n",
        "    r2_scores_by_depth = []\r\n",
        "    for i in range(max_depth):\r\n",
        "        r2_scores = []\r\n",
        "        for train_index, test_index in kf.split(X):\r\n",
        "            X_train, X_test = X.iloc[train_index], X.iloc[test_index]\r\n",
        "            y_train, y_test = y.iloc[train_index], y.iloc[test_index]\r\n",
        "            tree_reg = DecisionTreeRegressor(max_depth=i+1)\r\n",
        "            tree_reg.fit(X_train,y_train)\r\n",
        "            y_pred = tree_reg.predict(X_test)\r\n",
        "            r2_scores.append(r2_score(y_test,y_pred))\r\n",
        "        r2_scores_by_depth.append(np.mean(r2_scores))\r\n",
        "    plt.plot(r2_scores_by_depth)\r\n",
        "    print(\"On obtient une meilleure régression avec l'hyperparamètre max_depth =\" , np.argmax(r2_scores_by_depth), \"le R2 score est de\" , np.max(r2_scores_by_depth))\r\n",
        "    return(np.max(r2_scores_by_depth))"
      ],
      "execution_count": 22,
      "outputs": []
    },
    {
      "cell_type": "code",
      "metadata": {
        "colab": {
          "base_uri": "https://localhost:8080/",
          "height": 300
        },
        "id": "vgh4saAhj_un",
        "outputId": "3f2da71c-a743-41ed-d2e8-861a4c638357"
      },
      "source": [
        "arbre_de_decision(X,y,n_split=10,max_depth=10)"
      ],
      "execution_count": 78,
      "outputs": [
        {
          "output_type": "stream",
          "text": [
            "On obtient une meilleure régression avec l'hyperparamètre max_depth = 9 le R2 score est de 0.8479813291734217\n"
          ],
          "name": "stdout"
        },
        {
          "output_type": "execute_result",
          "data": {
            "text/plain": [
              "0.8479813291734217"
            ]
          },
          "metadata": {
            "tags": []
          },
          "execution_count": 78
        },
        {
          "output_type": "display_data",
          "data": {
            "image/png": "[encoded data removed]",
            "text/plain": [
              "<Figure size 432x288 with 1 Axes>"
            ]
          },
          "metadata": {
            "tags": [],
            "needs_background": "light"
          }
        }
      ]
    },
    {
      "cell_type": "markdown",
      "metadata": {
        "id": "tI7Sx17Q9pTE"
      },
      "source": [
        "Après la période d'apprentissage, on voit que la meilleure régression est obtenue pour max_depth = 9 et que le r2_score vaut 0.8479813291734217"
      ]
    },
    {
      "cell_type": "markdown",
      "metadata": {
        "id": "2ffrdVd6-M6l"
      },
      "source": [
        "#### KNeighbors"
      ]
    },
    {
      "cell_type": "markdown",
      "metadata": {
        "id": "MTzMH_uL-Uom"
      },
      "source": [
        "Dans un deuxième temps, je me suis intéréssé à faire une prédiction avec KNeighbors.\r\n",
        "\r\n",
        "L'hyperparamètre que l'on fait varier est ici max_k"
      ]
    },
    {
      "cell_type": "code",
      "metadata": {
        "id": "vBwAH8hN3IkU"
      },
      "source": [
        "from sklearn.neighbors import KNeighborsRegressor\r\n",
        "\r\n",
        "def KNN_regression(X,y,n_split=10,max_k=20):\r\n",
        "    kf = KFold(n_splits=n_split, shuffle=True, random_state=RANDOM_SEED)\r\n",
        "    r2_scores_by_k = []\r\n",
        "    for i in range(max_k):\r\n",
        "        r2_scores = []\r\n",
        "        for train_index, test_index in kf.split(X):\r\n",
        "            X_train, X_test = X.iloc[train_index], X.iloc[test_index]\r\n",
        "            y_train, y_test = y.iloc[train_index], y.iloc[test_index]\r\n",
        "            knnreg = KNeighborsRegressor(n_neighbors=i+1)\r\n",
        "            knnreg.fit(X_train,y_train)\r\n",
        "            y_pred = knnreg.predict(X_test)\r\n",
        "            r2_scores.append(r2_score(y_test,y_pred))\r\n",
        "        r2_scores_by_k.append(np.mean(r2_scores))\r\n",
        "    plt.plot(r2_scores_by_k)\r\n",
        "    print(\"On obtient une meilleure régression avec l'hyperparamètre k =\" , np.argmax(r2_scores_by_k))\r\n",
        "    return(np.max(r2_scores_by_k))\r\n"
      ],
      "execution_count": 74,
      "outputs": []
    },
    {
      "cell_type": "code",
      "metadata": {
        "colab": {
          "base_uri": "https://localhost:8080/",
          "height": 300
        },
        "id": "cUVyptpV3Z0n",
        "outputId": "b6463914-7ffe-4420-d266-ba66bd7f6656"
      },
      "source": [
        "KNN_regression(X,y,n_split=10,max_k=20)"
      ],
      "execution_count": 75,
      "outputs": [
        {
          "output_type": "stream",
          "text": [
            "On obtient une meilleure régression avec l'hyperparamètre k = 1\n"
          ],
          "name": "stdout"
        },
        {
          "output_type": "execute_result",
          "data": {
            "text/plain": [
              "0.8697737612664579"
            ]
          },
          "metadata": {
            "tags": []
          },
          "execution_count": 75
        },
        {
          "output_type": "display_data",
          "data": {
            "image/png": "[encoded data removed]",
            "text/plain": [
              "<Figure size 432x288 with 1 Axes>"
            ]
          },
          "metadata": {
            "tags": [],
            "needs_background": "light"
          }
        }
      ]
    },
    {
      "cell_type": "markdown",
      "metadata": {
        "id": "6Q18f6Yi_REA"
      },
      "source": [
        "Après la période d'apprentissage, on voit que la meilleure régression est obtenue pour maw_k = 1 et que le r2_score vaut 0.8697737612664579"
      ]
    },
    {
      "cell_type": "markdown",
      "metadata": {
        "id": "yiGj2rNL_klo"
      },
      "source": [
        "#### GradientBoosting"
      ]
    },
    {
      "cell_type": "markdown",
      "metadata": {
        "id": "_ZFrncLM_29V"
      },
      "source": [
        "Dans un troisième temps, j'ai appliqué un gradient boosting. \r\n",
        "\r\n",
        "L'hyperparamètre que je fais varier est n_estim"
      ]
    },
    {
      "cell_type": "code",
      "metadata": {
        "id": "sdJVqqS2s9F8"
      },
      "source": [
        "from sklearn.ensemble import GradientBoostingRegressor\r\n",
        "\r\n",
        "def GradBoost_reg(X,y, n_split=10, lr=0.1, n_estim_list = np.array([100, 150, 200,250,300])):\r\n",
        "    kf = KFold(n_splits=n_split, shuffle=True, random_state=RANDOM_SEED)\r\n",
        "    scores = np.zeros((len(n_estim_list)))\r\n",
        "    for i,n_estim in enumerate(n_estim_list):\r\n",
        "        scores_fixed_param = []\r\n",
        "        for train_index, test_index in kf.split(X):\r\n",
        "            X_train, X_test = X.iloc[train_index], X.iloc[test_index]\r\n",
        "            y_train, y_test = y.iloc[train_index], y.iloc[test_index]\r\n",
        "            reg = GradientBoostingRegressor(random_state=None, n_estimators=n_estim, learning_rate=lr)\r\n",
        "            reg.fit(X_train,y_train)\r\n",
        "            y_pred = reg.predict(X_test)\r\n",
        "            score = r2_score(y_test, y_pred)\r\n",
        "            scores_fixed_param.append(score)\r\n",
        "        scores[i] = np.mean(np.array(scores_fixed_param))\r\n",
        "    plt.plot(n_estim_list, scores)\r\n",
        "    return scores"
      ],
      "execution_count": 20,
      "outputs": []
    },
    {
      "cell_type": "code",
      "metadata": {
        "colab": {
          "base_uri": "https://localhost:8080/",
          "height": 287
        },
        "id": "nMckPdP2tAHC",
        "outputId": "afb03c4a-afef-43da-e2fb-31fc3f26b661"
      },
      "source": [
        "GradBoost_reg(X,y, n_split=10, lr=0.1, n_estim_list = np.array([100, 150, 200,250,300]))"
      ],
      "execution_count": 23,
      "outputs": [
        {
          "output_type": "execute_result",
          "data": {
            "text/plain": [
              "array([0.8052435 , 0.8186914 , 0.82930229, 0.83888313, 0.8478964 ])"
            ]
          },
          "metadata": {
            "tags": []
          },
          "execution_count": 23
        },
        {
          "output_type": "display_data",
          "data": {
            "image/png": "[encoded data removed]",
            "text/plain": [
              "<Figure size 432x288 with 1 Axes>"
            ]
          },
          "metadata": {
            "tags": [],
            "needs_background": "light"
          }
        }
      ]
    },
    {
      "cell_type": "markdown",
      "metadata": {
        "id": "VPhbTo-FAIx0"
      },
      "source": [
        "Après la période d'apprentissage, on voit que la meilleure régression est obtenue pour n_estim = 300 et que le r2_score vaut 0.8478964"
      ]
    },
    {
      "cell_type": "markdown",
      "metadata": {
        "id": "NmYfl7fK_Wyp"
      },
      "source": [
        "### SVM"
      ]
    },
    {
      "cell_type": "markdown",
      "metadata": {
        "id": "kchAAjHo_a0m"
      },
      "source": [
        "Je fais une regression avec SVM"
      ]
    },
    {
      "cell_type": "code",
      "metadata": {
        "id": "VPLHGLzL_gnK"
      },
      "source": [
        "from sklearn.svm import SVR\r\n",
        "\r\n",
        "def SVM_regression(X,y,kernel = \"linear\",degree=3,n_split=10):\r\n",
        "    kf = KFold(n_splits=n_split, shuffle=True, random_state=RANDOM_SEED)\r\n",
        "    r2_scores = []\r\n",
        "    for train_index, test_index in kf.split(X):\r\n",
        "        X_train, X_test = X.iloc[train_index], X.iloc[test_index]\r\n",
        "        y_train, y_test = y.iloc[train_index], y.iloc[test_index]\r\n",
        "        if kernel == \"poly\":\r\n",
        "            SVMreg = SVR(kernel=\"poly\", degree=degree)\r\n",
        "        else:\r\n",
        "            SVMreg = SVR(kernel = kernel)\r\n",
        "        SVMreg.fit(X_train,y_train)\r\n",
        "        y_pred = SVMreg.predict(X_test)\r\n",
        "        r2_scores.append(r2_score(y_test,y_pred))\r\n",
        "    return np.mean(r2_scores)\r\n"
      ],
      "execution_count": 24,
      "outputs": []
    },
    {
      "cell_type": "code",
      "metadata": {
        "id": "hX9lEKMyMRE3"
      },
      "source": [
        "SVM_regression(X,y,kernel = \"linear\",degree=3,n_split=10)"
      ],
      "execution_count": null,
      "outputs": []
    },
    {
      "cell_type": "markdown",
      "metadata": {
        "id": "-Q6Mr54mMR6j"
      },
      "source": [
        "Après une execution de 1h sans résultat, j'ai interrompu le run..."
      ]
    },
    {
      "cell_type": "markdown",
      "metadata": {
        "id": "YrIPENqxAVff"
      },
      "source": [
        "#### AdaBoost"
      ]
    },
    {
      "cell_type": "markdown",
      "metadata": {
        "id": "sCQHn_jRAZh0"
      },
      "source": [
        "Enfin, j'ai voulu faire une prédiction avec AdaBoost. \r\n",
        "\r\n",
        "Les hyperparamètres que je fais varier sont n_estim et le learning rate lr. "
      ]
    },
    {
      "cell_type": "code",
      "metadata": {
        "id": "WwU5qFh7xA56"
      },
      "source": [
        "from sklearn.ensemble import AdaBoostRegressor\r\n",
        "\r\n",
        "def AdaBoost(X, y, n_split=10, loss='linear',random_state=None):\r\n",
        "    kf = KFold(n_splits=n_split, shuffle=True, random_state=RANDOM_SEED)\r\n",
        "    n_estim_list = np.array([100, 150, 200])\r\n",
        "    lr_list = np.array([0.5, 1.0, 2.0])\r\n",
        "    scores = np.zeros((len(n_estim_list), len(lr_list)))\r\n",
        "    for i,n_estim in enumerate(n_estim_list):\r\n",
        "        for j,lr in enumerate(lr_list):\r\n",
        "            for train_index, test_index in kf.split(X):\r\n",
        "                scores_fixed_param = []\r\n",
        "                X_train, X_test = X.iloc[train_index], X.iloc[test_index]\r\n",
        "                y_train, y_test = y.iloc[train_index], y.iloc[test_index]\r\n",
        "                ada_regr = AdaBoostRegressor(random_state=random_state, n_estimators=n_estim, learning_rate=lr)\r\n",
        "                ada_regr.fit(X_train,y_train)\r\n",
        "                y_pred = ada_regr.predict(X_test)\r\n",
        "                score = r2_score(y_test, y_pred)\r\n",
        "                scores_fixed_param.append(score)\r\n",
        "                \r\n",
        "            scores[i][j] = np.mean(scores_fixed_param)\r\n",
        "            \r\n",
        "    # Figure: 3D plot of score as function of n_estimators and learning_rate\r\n",
        "    fig = plt.figure()\r\n",
        "    ax = fig.add_subplot(111, projection='3d')\r\n",
        "    n_estims, l_rates = np.meshgrid(n_estim_list, lr)\r\n",
        "    surf = ax.plot_surface(n_estims, l_rates, scores)\r\n",
        "    plt.xlabel(\"nb estimators\")\r\n",
        "    plt.ylabel(\"learning rate\")\r\n",
        "    plt.show()\r\n",
        "    \r\n",
        "    return scores"
      ],
      "execution_count": 1,
      "outputs": []
    },
    {
      "cell_type": "code",
      "metadata": {
        "colab": {
          "base_uri": "https://localhost:8080/",
          "height": 300
        },
        "id": "POjRkOZ0xJzr",
        "outputId": "08c52d92-cae6-4945-896e-b7225a0c1112"
      },
      "source": [
        "AdaBoost(X, y, n_split=10, loss='linear',random_state=None)"
      ],
      "execution_count": 73,
      "outputs": [
        {
          "output_type": "display_data",
          "data": {
            "image/png": "[encoded data removed]",
            "text/plain": [
              "<Figure size 432x288 with 1 Axes>"
            ]
          },
          "metadata": {
            "tags": [],
            "needs_background": "light"
          }
        },
        {
          "output_type": "execute_result",
          "data": {
            "text/plain": [
              "array([[ 0.34537549, -1.235112  , -3.14097873],\n",
              "       [ 0.1989294 , -0.44439094, -4.76118967],\n",
              "       [ 0.30655414, -0.34890316, -1.42840813]])"
            ]
          },
          "metadata": {
            "tags": []
          },
          "execution_count": 73
        }
      ]
    },
    {
      "cell_type": "markdown",
      "metadata": {
        "id": "YciDXRGQ9rJG"
      },
      "source": [
        "J'obtiens des r2_score supérieurs à 1... Il y a un problème dans le code que je ne comprends pas.."
      ]
    }
  ]
}